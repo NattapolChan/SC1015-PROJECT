{
 "cells": [
  {
   "cell_type": "markdown",
   "metadata": {
    "id": "wsYbf614xFgp"
   },
   "source": [
    "# **Heartbeat sounds**"
   ]
  },
  {
   "cell_type": "markdown",
   "metadata": {
    "id": "0kLdEF2Dy0fi"
   },
   "source": [
    "Heart sounds are produced from a\n",
    "specific cardiac event such as closure of\n",
    "a valve or tensing of a chordae\n",
    "tendineae.\n",
    "\n",
    "• S1 result from the closing of the mitral\n",
    "and tricuspid valves.\n",
    "\n",
    "• S2 produced by the closure of the aortic\n",
    "and pulmonic valves. "
   ]
  },
  {
   "cell_type": "markdown",
   "metadata": {
    "id": "6Jy9u7c0y0rt"
   },
   "source": [
    "In medicine we call the ‘lub’\n",
    "sound \"S1\" and the ‘dub’ sound\n",
    "\"S2\". "
   ]
  },
  {
   "cell_type": "markdown",
   "metadata": {},
   "source": [
    "You can learn short intro about heart sounds from this video:\n",
    "\n",
    "https://www.youtube.com/watch?v=dBwr2GZCmQM "
   ]
  },
  {
   "cell_type": "markdown",
   "metadata": {},
   "source": [
    "# About data: "
   ]
  },
  {
   "cell_type": "markdown",
   "metadata": {},
   "source": [
    "Is challenge published in 2012 to classify the heart sound to some categories from ‘AISTATS’ .\n",
    "Data has been gathered from two sources (A) and (B).\n",
    "\n",
    "A) from the general public via the iStethoscope Pro.\n",
    "\n",
    "B) from a clinic trial in hospitals using the digital stethoscope DigiScope.\n",
    "\n",
    "Before we work on this nootebook we handle the data folders and conctante both sources(A&B) to be easy to deal with it.\n",
    "\n",
    "Original Data here: http://www.peterjbentley.com/heartchallenge/ "
   ]
  },
  {
   "cell_type": "markdown",
   "metadata": {},
   "source": [
    "# Import main libraries"
   ]
  },
  {
   "cell_type": "code",
   "execution_count": 1,
   "metadata": {
    "execution": {
     "iopub.execute_input": "2023-01-04T14:28:59.035394Z",
     "iopub.status.busy": "2023-01-04T14:28:59.035101Z",
     "iopub.status.idle": "2023-01-04T14:28:59.15997Z",
     "shell.execute_reply": "2023-01-04T14:28:59.159254Z",
     "shell.execute_reply.started": "2023-01-04T14:28:59.035361Z"
    },
    "id": "mKrDtXgGMimr"
   },
   "outputs": [],
   "source": [
    "import os\n",
    "import glob\n",
    "import fnmatch\n",
    "import pandas as pd\n",
    "import numpy as np\n",
    "import librosa #To deal with Audio files\n",
    "import librosa.display\n",
    "import seaborn as sns\n",
    "import matplotlib.pyplot as plt\n",
    "import IPython.display as ipd\n",
    "import math\n",
    "import tensorflow as tf\n",
    "\n",
    "from keras.utils import np_utils\n",
    "from keras.layers import concatenate\n",
    "from tensorflow.keras.models import Sequential, Model, load_model\n",
    "\n",
    "from tensorflow.keras.layers import Conv1D, Conv2D, SeparableConv1D, MaxPooling1D, MaxPooling2D\n",
    "from tensorflow.keras.layers import Input, add, Flatten, Dense, BatchNormalization, Dropout, LSTM, GRU\n",
    "from tensorflow.keras.layers import GlobalMaxPooling1D, GlobalMaxPooling2D, Activation, LeakyReLU, ReLU\n",
    "\n",
    "from tensorflow.keras import regularizers\n",
    "from tensorflow.keras import backend as K\n",
    "from tensorflow.keras.optimizers import Adamax\n",
    "from tensorflow.keras.callbacks import ModelCheckpoint, EarlyStopping\n",
    "\n",
    "\n",
    "from sklearn import preprocessing\n",
    "from sklearn.model_selection import train_test_split\n",
    "from sklearn.metrics import accuracy_score,precision_score,recall_score,f1_score,matthews_corrcoef\n",
    "from sklearn.metrics import cohen_kappa_score,roc_auc_score,confusion_matrix,classification_report"
   ]
  },
  {
   "cell_type": "code",
   "execution_count": 4,
   "metadata": {
    "execution": {
     "iopub.execute_input": "2023-01-04T13:46:27.171361Z",
     "iopub.status.busy": "2023-01-04T13:46:27.170811Z",
     "iopub.status.idle": "2023-01-04T13:46:27.185149Z",
     "shell.execute_reply": "2023-01-04T13:46:27.184286Z",
     "shell.execute_reply.started": "2023-01-04T13:46:27.171306Z"
    },
    "id": "_C9OdmAcOLZb",
    "outputId": "abcc8638-05a9-4a10-b7a3-aba11f2c89dd"
   },
   "outputs": [
    {
     "ename": "FileNotFoundError",
     "evalue": "[Errno 2] No such file or directory: '../input/heartbeat-sound/Heartbeat_Sound/'",
     "output_type": "error",
     "traceback": [
      "\u001b[0;31m---------------------------------------------------------------------------\u001b[0m",
      "\u001b[0;31mFileNotFoundError\u001b[0m                         Traceback (most recent call last)",
      "Cell \u001b[0;32mIn[4], line 2\u001b[0m\n\u001b[1;32m      1\u001b[0m data_path \u001b[38;5;241m=\u001b[39m \u001b[38;5;124m\"\u001b[39m\u001b[38;5;124m../input/heartbeat-sound/Heartbeat_Sound/\u001b[39m\u001b[38;5;124m\"\u001b[39m\n\u001b[0;32m----> 2\u001b[0m \u001b[38;5;28mprint\u001b[39m(\u001b[43mos\u001b[49m\u001b[38;5;241;43m.\u001b[39;49m\u001b[43mlistdir\u001b[49m\u001b[43m(\u001b[49m\u001b[43mdata_path\u001b[49m\u001b[43m)\u001b[49m)\n",
      "\u001b[0;31mFileNotFoundError\u001b[0m: [Errno 2] No such file or directory: '../input/heartbeat-sound/Heartbeat_Sound/'"
     ]
    }
   ],
   "source": [
    "data_path = \"../input/heartbeat-sound/Heartbeat_Sound/\"\n",
    "print(os.listdir(data_path))"
   ]
  },
  {
   "cell_type": "code",
   "execution_count": null,
   "metadata": {
    "execution": {
     "iopub.execute_input": "2023-01-04T13:46:27.186957Z",
     "iopub.status.busy": "2023-01-04T13:46:27.186686Z",
     "iopub.status.idle": "2023-01-04T13:46:27.196511Z",
     "shell.execute_reply": "2023-01-04T13:46:27.195698Z",
     "shell.execute_reply.started": "2023-01-04T13:46:27.186922Z"
    },
    "id": "8CyLmcxjO4DM"
   },
   "outputs": [],
   "source": [
    "tarin_data      = data_path \n",
    "unlabel_data    = data_path  + \"/unlabel/\"\n",
    "\n",
    "normal_data     = tarin_data + '/normal/'\n",
    "murmur_data     = tarin_data + '/murmur/'\n",
    "extrastole_data = tarin_data + '/extrastole/'\n",
    "artifact_data   = tarin_data + '/artifact/'\n",
    "extrahls_data   = tarin_data + \"/extrahls/\""
   ]
  },
  {
   "cell_type": "code",
   "execution_count": null,
   "metadata": {
    "execution": {
     "iopub.execute_input": "2023-01-04T13:46:27.199004Z",
     "iopub.status.busy": "2023-01-04T13:46:27.198501Z",
     "iopub.status.idle": "2023-01-04T13:46:27.330114Z",
     "shell.execute_reply": "2023-01-04T13:46:27.329389Z",
     "shell.execute_reply.started": "2023-01-04T13:46:27.198969Z"
    },
    "id": "tz3gVB59PiOS",
    "outputId": "9cc1170d-6fd0-485e-cc85-5837791be151"
   },
   "outputs": [],
   "source": [
    "print(\"Normal files:\", len(os.listdir(normal_data))) #length of normal training sounds\n",
    "print(\"Murmur files:\",len(os.listdir(murmur_data))) #length of murmur training sounds \n",
    "print(\"Extrastole files\", len(os.listdir(extrastole_data))) #length of extrastole training sounds \n",
    "print(\"Artifact files:\",len(os.listdir(artifact_data))) #length of artifact training sounds \n",
    "print(\"Extrahls files:\",len(os.listdir(extrahls_data))) #length of extrahls training sounds \n",
    "\n",
    "print('TOTAL TRAIN SOUNDS:', len(os.listdir(normal_data)) \n",
    "                              + len(os.listdir(murmur_data))\n",
    "                              + len(os.listdir(extrastole_data))\n",
    "                              + len(os.listdir(artifact_data))\n",
    "                              + len(os.listdir(extrahls_data)))"
   ]
  },
  {
   "cell_type": "code",
   "execution_count": null,
   "metadata": {
    "execution": {
     "iopub.execute_input": "2023-01-04T13:46:27.332567Z",
     "iopub.status.busy": "2023-01-04T13:46:27.33228Z",
     "iopub.status.idle": "2023-01-04T13:46:27.383692Z",
     "shell.execute_reply": "2023-01-04T13:46:27.383003Z",
     "shell.execute_reply.started": "2023-01-04T13:46:27.332533Z"
    },
    "id": "rJI5waZmPpG8",
    "outputId": "aea729c6-5981-4df7-d76e-2ee8ef1605c4"
   },
   "outputs": [],
   "source": [
    "print(\"Test sounds: \", len(os.listdir(unlabel_data)))"
   ]
  },
  {
   "cell_type": "markdown",
   "metadata": {
    "id": "TUaWfKZhzbRS"
   },
   "source": [
    "# EDA and Visualization"
   ]
  },
  {
   "cell_type": "code",
   "execution_count": null,
   "metadata": {
    "execution": {
     "iopub.execute_input": "2023-01-04T13:46:27.385479Z",
     "iopub.status.busy": "2023-01-04T13:46:27.38499Z",
     "iopub.status.idle": "2023-01-04T13:46:27.5127Z",
     "shell.execute_reply": "2023-01-04T13:46:27.512Z",
     "shell.execute_reply.started": "2023-01-04T13:46:27.385442Z"
    },
    "id": "CuclqT9CQEyR",
    "outputId": "f33c4d84-01b7-40b6-a5a4-f12b9d847a96"
   },
   "outputs": [],
   "source": [
    "x = np.array([len(os.listdir(normal_data)),\n",
    "              len(os.listdir(murmur_data)),\n",
    "              len(os.listdir(extrastole_data)),\n",
    "              len(os.listdir(artifact_data)),\n",
    "              len(os.listdir(extrahls_data))])\n",
    "labels = ['normal', 'murmur', 'extrastole', 'artifact', 'extrahls']\n",
    "plt.pie(x, labels = labels, autopct = '%.0f%%', radius= 1.5, textprops={'fontsize': 16})\n",
    "plt.show()"
   ]
  },
  {
   "cell_type": "markdown",
   "metadata": {
    "id": "uqKUb_1uziKR"
   },
   "source": [
    "##### The figure shows imbalanced data so we need to fix it later \n"
   ]
  },
  {
   "cell_type": "code",
   "execution_count": null,
   "metadata": {
    "execution": {
     "iopub.execute_input": "2023-01-04T14:01:38.394124Z",
     "iopub.status.busy": "2023-01-04T14:01:38.393863Z",
     "iopub.status.idle": "2023-01-04T14:01:38.400259Z",
     "shell.execute_reply": "2023-01-04T14:01:38.399347Z",
     "shell.execute_reply.started": "2023-01-04T14:01:38.394095Z"
    }
   },
   "outputs": [],
   "source": [
    "# Listen to rondom audio from specific class\n",
    "def random_sound (audio_class):\n",
    "    random_sound = np.random.randint(0,len(os.listdir(audio_class))) \n",
    "    sound = os.listdir(audio_class)[random_sound]\n",
    "    sound = audio_class+sound\n",
    "    sound,sample_rate = librosa.load(sound)\n",
    "    return ipd.Audio(sound,rate=sample_rate),sound"
   ]
  },
  {
   "cell_type": "markdown",
   "metadata": {
    "id": "9O8bW0tK9Ez8"
   },
   "source": [
    "### Waveform"
   ]
  },
  {
   "cell_type": "markdown",
   "metadata": {
    "id": "C5FfXLe8CRKj"
   },
   "source": [
    "Sound is the pressure of air propagates to our ear. Digital audio file is gotten from a sound sensor that can detects sound waves and converting it to electrical signals.\n",
    "Specifically, it's telling us about the wave's displacement, and how it changes over time.\n",
    "\n"
   ]
  },
  {
   "cell_type": "markdown",
   "metadata": {
    "id": "IzGvIFEQCbfA"
   },
   "source": [
    "X axis, represents time.\n",
    "Y-axis measures displacement of air molecules.This is where amplitude comes in. It measures how much a molecule is displaced from its resting position.  "
   ]
  },
  {
   "cell_type": "code",
   "execution_count": null,
   "metadata": {
    "execution": {
     "iopub.execute_input": "2023-01-04T14:00:07.977003Z",
     "iopub.status.busy": "2023-01-04T14:00:07.976736Z",
     "iopub.status.idle": "2023-01-04T14:00:07.981627Z",
     "shell.execute_reply": "2023-01-04T14:00:07.980636Z",
     "shell.execute_reply.started": "2023-01-04T14:00:07.976974Z"
    }
   },
   "outputs": [],
   "source": [
    "# show waveform of audio from dataset \n",
    "# X axis, represents time.\n",
    "# Y-axis measures displacement of air molecules.\n",
    "# This is where amplitude comes in. It measures how much a molecule is displaced from its resting position.  \n",
    "def show_audio_waveform(audio_sample):\n",
    "    plt.figure(figsize=(20,5))\n",
    "    librosa.display.waveplot(audio_sample, sr = 22050)\n",
    "#     plt.title(\"Sound\")\n",
    "    plt.xlabel(\"Time\")\n",
    "    plt.ylabel(\"Amplitude\")\n",
    "    plt.show()"
   ]
  },
  {
   "cell_type": "markdown",
   "metadata": {
    "id": "ythFbt1H-I7G"
   },
   "source": [
    "### Spectrum"
   ]
  },
  {
   "cell_type": "markdown",
   "metadata": {
    "id": "zv7UPaa2CYsx"
   },
   "source": [
    "A sound spectrum is a representation of a sound – usually a short sample of a sound – in terms of the amount of vibration at each individual frequency. It is usually presented as a graph of either power or pressure as a function of frequency. The power or pressure is usually measured in decibels and the frequency is measured in vibrations per second (or hertz, abbreviation Hz) or thousands of vibrations per second (kilohertz, abbreviation kHz).\n",
    "\n",
    "The spectrum expresses the frequency composition of the sound and is obtained by analyzing the sound. A sound spectrum is usually represented in a coordinate plane where the frequency f is plotted along the axis of abscissas and the amplitude A, or intensity, of a harmonic component with a given frequency is plotted along the axis of ordinates."
   ]
  },
  {
   "cell_type": "code",
   "execution_count": null,
   "metadata": {
    "execution": {
     "iopub.execute_input": "2023-01-04T14:05:47.044006Z",
     "iopub.status.busy": "2023-01-04T14:05:47.043744Z",
     "iopub.status.idle": "2023-01-04T14:05:47.049708Z",
     "shell.execute_reply": "2023-01-04T14:05:47.048988Z",
     "shell.execute_reply.started": "2023-01-04T14:05:47.043979Z"
    }
   },
   "outputs": [],
   "source": [
    "# show spectrum of audio from dataset \n",
    "def show_audio_spectrum(audio_sample):\n",
    "    sample_rate = 22050\n",
    "    fft_normal = np.fft.fft(audio_sample)\n",
    "    magnitude_normal = np.abs(fft_normal)\n",
    "    freq_normal = np.linspace(0,sample_rate, len(magnitude_normal)) \n",
    "    half_freq = freq_normal[:int(len(freq_normal)/2)]\n",
    "    half_magnitude = magnitude_normal[:int(len(freq_normal)/2)]\n",
    "\n",
    "    plt.figure(figsize=(12,8))\n",
    "    plt.plot(half_freq,half_magnitude)\n",
    "    plt.title(\"Spectrum\")\n",
    "    plt.xlabel(\"Frequency\")\n",
    "    plt.ylabel(\"Magnitude\")\n",
    "    plt.show()"
   ]
  },
  {
   "cell_type": "markdown",
   "metadata": {
    "id": "Z-iYOhgZBKzm"
   },
   "source": [
    "### Spectogram"
   ]
  },
  {
   "cell_type": "markdown",
   "metadata": {
    "id": "GtOlHFhQCmpY"
   },
   "source": [
    "For us, as human, we sense a sound not only on a particular time by its intensity, but also by its pitch. The pitch is the frequency of the sound - higher pitch corresponding to higher frequency and vice versa. So, to have a representation which is closer to our brain, we can add another dimension - the frequency - to our representation, which is the Spectrogram."
   ]
  },
  {
   "cell_type": "markdown",
   "metadata": {
    "id": "BvyCO58GCnoR"
   },
   "source": [
    "A spectrogram is a visual representation of the spectrum of frequencies of a signal as it varies with time. When applied to an audio signal, spectrograms are sometimes called sonographs, voiceprints, or voicegrams.\n",
    "\n",
    "Spectrograms are used extensively in the fields of music, linguistics, sonar, radar, speech processing,seismology, and others. Spectrograms of audio can be used to identify spoken words phonetically, and to analyse the various calls of animals.it can be generated by an optical spectrometer, a bank of band-pass filters, by Fourier transform or by a wavelet transform."
   ]
  },
  {
   "cell_type": "code",
   "execution_count": null,
   "metadata": {
    "execution": {
     "iopub.execute_input": "2023-01-04T14:10:23.474786Z",
     "iopub.status.busy": "2023-01-04T14:10:23.474201Z",
     "iopub.status.idle": "2023-01-04T14:10:23.481212Z",
     "shell.execute_reply": "2023-01-04T14:10:23.480389Z",
     "shell.execute_reply.started": "2023-01-04T14:10:23.474746Z"
    }
   },
   "outputs": [],
   "source": [
    "# show specrogram of audio from dataset \n",
    "# the output is an image that represents a sound. \n",
    "# X-axis is for time, y-axis is for frequency and the color is for intensity\n",
    "def show_spectrogram (audio_sample):    \n",
    "    # STFT -> spectrogram\n",
    "    hop_length = 512 # in num. of samples\n",
    "    n_fft = 2048 # window in num. of samples\n",
    "    sample_rate = 22050\n",
    "\n",
    "    # calculate duration hop length and window in seconds\n",
    "    hop_length_duration = float(hop_length)/sample_rate\n",
    "    n_fft_duration = float(n_fft)/sample_rate\n",
    "\n",
    "    print(\"STFT hop length duration is: {}s\".format(hop_length_duration))\n",
    "    print(\"STFT window duration is: {}s\".format(n_fft_duration))\n",
    "\n",
    "    # perform stft\n",
    "    stft_normal = librosa.stft(audio_sample, n_fft=n_fft, hop_length=hop_length)\n",
    "\n",
    "    # calculate abs values on complex numbers to get magnitude\n",
    "    spectrogram = np.abs(stft_normal)\n",
    "    log_spectrogram = librosa.amplitude_to_db(spectrogram)\n",
    "\n",
    "    # display spectrogram\n",
    "    plt.figure(figsize=(15,10))\n",
    "    librosa.display.specshow(log_spectrogram, sr=sample_rate, hop_length=hop_length)\n",
    "    plt.xlabel(\"Time\")\n",
    "    plt.ylabel(\"Frequency\")\n",
    "    plt.colorbar()\n",
    "    #plt.set_cmap(\"YlOrBr\")\n",
    "    plt.title(\"Spectrogram\")"
   ]
  },
  {
   "cell_type": "markdown",
   "metadata": {
    "id": "e4horOZQIaey"
   },
   "source": [
    "### MFCCs"
   ]
  },
  {
   "cell_type": "markdown",
   "metadata": {
    "id": "SmR3NpYICsWw"
   },
   "source": [
    "We can’t take the raw audio signal as input to our model because there will be a lot of noise in the audio signal. It is observed that extracting features from the audio signal and using it as input to the base model will produce much better performance than directly considering raw audio signal as input. MFCC is the widely used technique for extracting the features from the audio signal."
   ]
  },
  {
   "cell_type": "markdown",
   "metadata": {
    "id": "Ynk2R0WXC1VQ"
   },
   "source": [
    "in sound processing, the mel-frequency cepstrum (MFC) is a representation of the short-term power spectrum of a sound, based on a linear cosine transform of a log power spectrum on a nonlinear mel scale of frequency.\n",
    "\n",
    "Mel-frequency cepstral coefficients (MFCCs) are coefficients that collectively make up an MFC. They are derived from a type of cepstral representation of the audio clip (a nonlinear \"spectrum-of-a-spectrum\"). The difference between the cepstrum and the mel-frequency cepstrum is that in the MFC, the frequency bands are equally spaced on the mel scale, which approximates the human auditory system's response more closely than the linearly-spaced frequency bands used in the normal spectrum. This frequency warping can allow for better representation of sound, for example, in audio compression."
   ]
  },
  {
   "cell_type": "markdown",
   "metadata": {
    "id": "MquygXJYC4of"
   },
   "source": [
    "**MFCCs are commonly derived as follows:**\n",
    "\n",
    "1- Take the Fourier transform of (a windowed excerpt of) a signal.\n",
    "\n",
    "2- Map the powers of the spectrum obtained above onto the mel scale, using triangular overlapping windows or alternatively, cosine overlapping windows.\n",
    "\n",
    "3- Take the logs of the powers at each of the mel frequencies.\n",
    "\n",
    "4- Take the discrete cosine transform of the list of mel log powers, as if it were a signal.\n",
    "\n",
    "5- The MFCCs are the amplitudes of the resulting spectrum."
   ]
  },
  {
   "cell_type": "code",
   "execution_count": null,
   "metadata": {
    "execution": {
     "iopub.execute_input": "2023-01-04T14:35:58.742713Z",
     "iopub.status.busy": "2023-01-04T14:35:58.74245Z",
     "iopub.status.idle": "2023-01-04T14:35:58.748634Z",
     "shell.execute_reply": "2023-01-04T14:35:58.747792Z",
     "shell.execute_reply.started": "2023-01-04T14:35:58.742684Z"
    },
    "id": "Ni22VS0VIZPS",
    "outputId": "f7c2278c-e792-48b6-dae7-8993e720c8a5"
   },
   "outputs": [],
   "source": [
    "# MFCCs\n",
    "# extract 52 MFCCs\n",
    "def show_mfcc_features(audio_sample):\n",
    "    hop_length = 512 # in num. of samples\n",
    "    n_fft = 2048 # window in num. of samples\n",
    "    sample_rate = 22050\n",
    "    \n",
    "    MFCCs = librosa.feature.mfcc(audio_sample, n_fft=n_fft, hop_length=hop_length, n_mfcc=52)\n",
    "\n",
    "    # display MFCCs\n",
    "    plt.figure(figsize=(15,10))\n",
    "    librosa.display.specshow(MFCCs, sr=sample_rate, hop_length=hop_length)\n",
    "    plt.xlabel(\"Time\")\n",
    "    plt.ylabel(\"MFCC coefficients\")\n",
    "    plt.colorbar()\n",
    "    plt.title(\"MFCCs\")\n",
    "    plt.show()"
   ]
  },
  {
   "cell_type": "markdown",
   "metadata": {
    "id": "7oJ066FU0xCj"
   },
   "source": [
    "##  Dataset Classes"
   ]
  },
  {
   "cell_type": "markdown",
   "metadata": {},
   "source": [
    "### *1. Normal* "
   ]
  },
  {
   "cell_type": "markdown",
   "metadata": {
    "id": "dG7gfm20BSUx"
   },
   "source": [
    "Most normal heart rates at rest\n",
    "will be between about 60 and\n",
    "100 beats (‘lub dub’s) per\n",
    "minute. "
   ]
  },
  {
   "cell_type": "code",
   "execution_count": null,
   "metadata": {
    "execution": {
     "iopub.execute_input": "2023-01-04T14:14:49.795603Z",
     "iopub.status.busy": "2023-01-04T14:14:49.795154Z",
     "iopub.status.idle": "2023-01-04T14:14:49.906072Z",
     "shell.execute_reply": "2023-01-04T14:14:49.905465Z",
     "shell.execute_reply.started": "2023-01-04T14:14:49.795545Z"
    }
   },
   "outputs": [],
   "source": [
    "normal_audio, normal_sample  = random_sound(normal_data)\n",
    "normal_audio"
   ]
  },
  {
   "cell_type": "code",
   "execution_count": null,
   "metadata": {
    "execution": {
     "iopub.execute_input": "2023-01-04T14:14:51.202474Z",
     "iopub.status.busy": "2023-01-04T14:14:51.202192Z",
     "iopub.status.idle": "2023-01-04T14:14:51.430917Z",
     "shell.execute_reply": "2023-01-04T14:14:51.430215Z",
     "shell.execute_reply.started": "2023-01-04T14:14:51.202442Z"
    }
   },
   "outputs": [],
   "source": [
    "show_audio_waveform(normal_sample)"
   ]
  },
  {
   "cell_type": "code",
   "execution_count": null,
   "metadata": {
    "execution": {
     "iopub.execute_input": "2023-01-04T14:14:52.138674Z",
     "iopub.status.busy": "2023-01-04T14:14:52.138108Z",
     "iopub.status.idle": "2023-01-04T14:14:52.35296Z",
     "shell.execute_reply": "2023-01-04T14:14:52.352179Z",
     "shell.execute_reply.started": "2023-01-04T14:14:52.138634Z"
    },
    "id": "zU448ka5-Lb-",
    "outputId": "d8569a9c-a35a-41eb-fe12-f69d83846acf"
   },
   "outputs": [],
   "source": [
    "show_audio_spectrum(normal_sample)"
   ]
  },
  {
   "cell_type": "code",
   "execution_count": null,
   "metadata": {
    "execution": {
     "iopub.execute_input": "2023-01-04T14:14:52.979657Z",
     "iopub.status.busy": "2023-01-04T14:14:52.979387Z",
     "iopub.status.idle": "2023-01-04T14:14:53.336966Z",
     "shell.execute_reply": "2023-01-04T14:14:53.336203Z",
     "shell.execute_reply.started": "2023-01-04T14:14:52.97963Z"
    }
   },
   "outputs": [],
   "source": [
    "show_spectrogram(normal_sample)"
   ]
  },
  {
   "cell_type": "code",
   "execution_count": null,
   "metadata": {
    "execution": {
     "iopub.execute_input": "2023-01-04T14:14:54.202752Z",
     "iopub.status.busy": "2023-01-04T14:14:54.202159Z",
     "iopub.status.idle": "2023-01-04T14:14:54.462934Z",
     "shell.execute_reply": "2023-01-04T14:14:54.462165Z",
     "shell.execute_reply.started": "2023-01-04T14:14:54.202712Z"
    }
   },
   "outputs": [],
   "source": [
    "show_mfcc_features(normal_sample)"
   ]
  },
  {
   "cell_type": "markdown",
   "metadata": {
    "id": "QijNqTLs09wH"
   },
   "source": [
    "### *2. Murmur sound*"
   ]
  },
  {
   "cell_type": "markdown",
   "metadata": {
    "id": "GLTGZf5-C-Ey"
   },
   "source": [
    "Heart murmurs sound as though there\n",
    "is a “whooshing, roaring, rumbling, or\n",
    "turbulent fluid” noise in one of two\n",
    "temporal locations: (1) between “lub”\n",
    "and “dub”, or (2) between “dub” and\n",
    "“lub”. They can be a symptom of many\n",
    "heart disorders, some serious. "
   ]
  },
  {
   "cell_type": "code",
   "execution_count": null,
   "metadata": {
    "execution": {
     "iopub.execute_input": "2023-01-04T14:15:13.116732Z",
     "iopub.status.busy": "2023-01-04T14:15:13.116178Z",
     "iopub.status.idle": "2023-01-04T14:15:13.427068Z",
     "shell.execute_reply": "2023-01-04T14:15:13.426219Z",
     "shell.execute_reply.started": "2023-01-04T14:15:13.116694Z"
    }
   },
   "outputs": [],
   "source": [
    "murmur_audio, murmur_sample  = random_sound(murmur_data)\n",
    "murmur_audio"
   ]
  },
  {
   "cell_type": "code",
   "execution_count": null,
   "metadata": {
    "execution": {
     "iopub.execute_input": "2023-01-04T14:15:24.113368Z",
     "iopub.status.busy": "2023-01-04T14:15:24.113063Z",
     "iopub.status.idle": "2023-01-04T14:15:24.340819Z",
     "shell.execute_reply": "2023-01-04T14:15:24.340163Z",
     "shell.execute_reply.started": "2023-01-04T14:15:24.113306Z"
    }
   },
   "outputs": [],
   "source": [
    "show_audio_waveform(murmur_sample)"
   ]
  },
  {
   "cell_type": "code",
   "execution_count": null,
   "metadata": {
    "execution": {
     "iopub.execute_input": "2023-01-04T14:15:28.95379Z",
     "iopub.status.busy": "2023-01-04T14:15:28.953513Z",
     "iopub.status.idle": "2023-01-04T14:15:29.206832Z",
     "shell.execute_reply": "2023-01-04T14:15:29.20616Z",
     "shell.execute_reply.started": "2023-01-04T14:15:28.953759Z"
    },
    "id": "zU448ka5-Lb-",
    "outputId": "d8569a9c-a35a-41eb-fe12-f69d83846acf"
   },
   "outputs": [],
   "source": [
    "show_audio_spectrum(murmur_sample)"
   ]
  },
  {
   "cell_type": "code",
   "execution_count": null,
   "metadata": {
    "execution": {
     "iopub.execute_input": "2023-01-04T14:15:32.025512Z",
     "iopub.status.busy": "2023-01-04T14:15:32.024933Z",
     "iopub.status.idle": "2023-01-04T14:15:32.554031Z",
     "shell.execute_reply": "2023-01-04T14:15:32.553391Z",
     "shell.execute_reply.started": "2023-01-04T14:15:32.025474Z"
    }
   },
   "outputs": [],
   "source": [
    "show_spectrogram(murmur_sample)"
   ]
  },
  {
   "cell_type": "code",
   "execution_count": null,
   "metadata": {
    "execution": {
     "iopub.execute_input": "2023-01-04T14:15:37.430502Z",
     "iopub.status.busy": "2023-01-04T14:15:37.430212Z",
     "iopub.status.idle": "2023-01-04T14:15:37.714899Z",
     "shell.execute_reply": "2023-01-04T14:15:37.714218Z",
     "shell.execute_reply.started": "2023-01-04T14:15:37.430471Z"
    }
   },
   "outputs": [],
   "source": [
    "show_mfcc_features(murmur_sample)"
   ]
  },
  {
   "cell_type": "markdown",
   "metadata": {
    "id": "Pkcydaop1DX-"
   },
   "source": [
    "### *3. Extrastole sound*"
   ]
  },
  {
   "cell_type": "markdown",
   "metadata": {
    "id": "0oh8E104DFhy"
   },
   "source": [
    "• Extrasystole sounds may appear occasionally and can be\n",
    "identified because there is a heart sound that is out of rhythm\n",
    "involving extra or skipped heartbeats, e.g. a “lub-lub dub” or a\n",
    "“lub dub-dub”."
   ]
  },
  {
   "cell_type": "code",
   "execution_count": null,
   "metadata": {
    "execution": {
     "iopub.execute_input": "2023-01-04T14:16:34.20729Z",
     "iopub.status.busy": "2023-01-04T14:16:34.207021Z",
     "iopub.status.idle": "2023-01-04T14:16:34.476096Z",
     "shell.execute_reply": "2023-01-04T14:16:34.475375Z",
     "shell.execute_reply.started": "2023-01-04T14:16:34.207255Z"
    }
   },
   "outputs": [],
   "source": [
    "extrastole_audio, extrastole_sample  = random_sound(extrastole_data)\n",
    "extrastole_audio"
   ]
  },
  {
   "cell_type": "code",
   "execution_count": null,
   "metadata": {
    "execution": {
     "iopub.execute_input": "2023-01-04T14:16:34.766052Z",
     "iopub.status.busy": "2023-01-04T14:16:34.765648Z",
     "iopub.status.idle": "2023-01-04T14:16:35.000777Z",
     "shell.execute_reply": "2023-01-04T14:16:35.000138Z",
     "shell.execute_reply.started": "2023-01-04T14:16:34.766015Z"
    }
   },
   "outputs": [],
   "source": [
    "show_audio_waveform(extrastole_sample)"
   ]
  },
  {
   "cell_type": "code",
   "execution_count": null,
   "metadata": {
    "execution": {
     "iopub.execute_input": "2023-01-04T14:16:35.260117Z",
     "iopub.status.busy": "2023-01-04T14:16:35.259877Z",
     "iopub.status.idle": "2023-01-04T14:16:35.497832Z",
     "shell.execute_reply": "2023-01-04T14:16:35.497165Z",
     "shell.execute_reply.started": "2023-01-04T14:16:35.260088Z"
    },
    "id": "zU448ka5-Lb-",
    "outputId": "d8569a9c-a35a-41eb-fe12-f69d83846acf"
   },
   "outputs": [],
   "source": [
    "show_audio_spectrum(extrastole_sample)"
   ]
  },
  {
   "cell_type": "code",
   "execution_count": null,
   "metadata": {
    "execution": {
     "iopub.execute_input": "2023-01-04T14:16:35.801362Z",
     "iopub.status.busy": "2023-01-04T14:16:35.800867Z",
     "iopub.status.idle": "2023-01-04T14:16:36.227807Z",
     "shell.execute_reply": "2023-01-04T14:16:36.227144Z",
     "shell.execute_reply.started": "2023-01-04T14:16:35.801305Z"
    }
   },
   "outputs": [],
   "source": [
    "show_spectrogram(extrastole_sample)"
   ]
  },
  {
   "cell_type": "code",
   "execution_count": null,
   "metadata": {
    "execution": {
     "iopub.execute_input": "2023-01-04T14:16:36.363246Z",
     "iopub.status.busy": "2023-01-04T14:16:36.363023Z",
     "iopub.status.idle": "2023-01-04T14:16:36.632811Z",
     "shell.execute_reply": "2023-01-04T14:16:36.632144Z",
     "shell.execute_reply.started": "2023-01-04T14:16:36.363211Z"
    }
   },
   "outputs": [],
   "source": [
    "show_mfcc_features(extrastole_sample)"
   ]
  },
  {
   "cell_type": "markdown",
   "metadata": {
    "id": "ZIU_v7is1IFH"
   },
   "source": [
    "### *4. Artifact sound*"
   ]
  },
  {
   "cell_type": "markdown",
   "metadata": {
    "id": "6jYt4najDMJn"
   },
   "source": [
    "• In the Artifact category there are a wide range of different\n",
    "sounds, including feedback squeals and echoes, speech, music\n",
    "and noise."
   ]
  },
  {
   "cell_type": "code",
   "execution_count": null,
   "metadata": {
    "execution": {
     "iopub.execute_input": "2023-01-04T14:16:34.20729Z",
     "iopub.status.busy": "2023-01-04T14:16:34.207021Z",
     "iopub.status.idle": "2023-01-04T14:16:34.476096Z",
     "shell.execute_reply": "2023-01-04T14:16:34.475375Z",
     "shell.execute_reply.started": "2023-01-04T14:16:34.207255Z"
    }
   },
   "outputs": [],
   "source": [
    "artifact_audio, artifact_sample  = random_sound(artifact_data)\n",
    "artifact_audio"
   ]
  },
  {
   "cell_type": "code",
   "execution_count": null,
   "metadata": {
    "execution": {
     "iopub.execute_input": "2023-01-04T14:16:34.766052Z",
     "iopub.status.busy": "2023-01-04T14:16:34.765648Z",
     "iopub.status.idle": "2023-01-04T14:16:35.000777Z",
     "shell.execute_reply": "2023-01-04T14:16:35.000138Z",
     "shell.execute_reply.started": "2023-01-04T14:16:34.766015Z"
    }
   },
   "outputs": [],
   "source": [
    "show_audio_waveform(artifact_sample)"
   ]
  },
  {
   "cell_type": "code",
   "execution_count": null,
   "metadata": {
    "execution": {
     "iopub.execute_input": "2023-01-04T14:16:35.260117Z",
     "iopub.status.busy": "2023-01-04T14:16:35.259877Z",
     "iopub.status.idle": "2023-01-04T14:16:35.497832Z",
     "shell.execute_reply": "2023-01-04T14:16:35.497165Z",
     "shell.execute_reply.started": "2023-01-04T14:16:35.260088Z"
    },
    "id": "zU448ka5-Lb-",
    "outputId": "d8569a9c-a35a-41eb-fe12-f69d83846acf"
   },
   "outputs": [],
   "source": [
    "show_audio_spectrum(artifact_sample)"
   ]
  },
  {
   "cell_type": "code",
   "execution_count": null,
   "metadata": {
    "execution": {
     "iopub.execute_input": "2023-01-04T14:16:35.801362Z",
     "iopub.status.busy": "2023-01-04T14:16:35.800867Z",
     "iopub.status.idle": "2023-01-04T14:16:36.227807Z",
     "shell.execute_reply": "2023-01-04T14:16:36.227144Z",
     "shell.execute_reply.started": "2023-01-04T14:16:35.801305Z"
    }
   },
   "outputs": [],
   "source": [
    "show_spectrogram(artifact_sample)"
   ]
  },
  {
   "cell_type": "code",
   "execution_count": null,
   "metadata": {
    "execution": {
     "iopub.execute_input": "2023-01-04T14:16:36.363246Z",
     "iopub.status.busy": "2023-01-04T14:16:36.363023Z",
     "iopub.status.idle": "2023-01-04T14:16:36.632811Z",
     "shell.execute_reply": "2023-01-04T14:16:36.632144Z",
     "shell.execute_reply.started": "2023-01-04T14:16:36.363211Z"
    }
   },
   "outputs": [],
   "source": [
    "show_mfcc_features(artifact_sample)"
   ]
  },
  {
   "cell_type": "markdown",
   "metadata": {
    "id": "o4RdDtdh1N3j"
   },
   "source": [
    "### *5. Extrahls sound*"
   ]
  },
  {
   "cell_type": "markdown",
   "metadata": {
    "id": "RJLXOwKKDjQ_"
   },
   "source": [
    "Extra heart sounds can be identified because there is an\n",
    "additional sound, e.g. a “lub-lub dub” or a “lub dub-dub”. "
   ]
  },
  {
   "cell_type": "code",
   "execution_count": null,
   "metadata": {
    "execution": {
     "iopub.execute_input": "2023-01-04T14:18:30.700992Z",
     "iopub.status.busy": "2023-01-04T14:18:30.700714Z",
     "iopub.status.idle": "2023-01-04T14:18:31.041847Z",
     "shell.execute_reply": "2023-01-04T14:18:31.041245Z",
     "shell.execute_reply.started": "2023-01-04T14:18:30.700961Z"
    }
   },
   "outputs": [],
   "source": [
    "extrahls_audio, extrahls_sample  = random_sound(extrahls_data)\n",
    "extrahls_audio"
   ]
  },
  {
   "cell_type": "code",
   "execution_count": null,
   "metadata": {
    "execution": {
     "iopub.execute_input": "2023-01-04T14:18:45.56Z",
     "iopub.status.busy": "2023-01-04T14:18:45.559735Z",
     "iopub.status.idle": "2023-01-04T14:18:45.822843Z",
     "shell.execute_reply": "2023-01-04T14:18:45.822156Z",
     "shell.execute_reply.started": "2023-01-04T14:18:45.55997Z"
    }
   },
   "outputs": [],
   "source": [
    "show_audio_waveform(extrahls_sample)"
   ]
  },
  {
   "cell_type": "code",
   "execution_count": null,
   "metadata": {
    "execution": {
     "iopub.execute_input": "2023-01-04T14:18:46.024667Z",
     "iopub.status.busy": "2023-01-04T14:18:46.024451Z",
     "iopub.status.idle": "2023-01-04T14:18:46.291291Z",
     "shell.execute_reply": "2023-01-04T14:18:46.290018Z",
     "shell.execute_reply.started": "2023-01-04T14:18:46.024642Z"
    },
    "id": "zU448ka5-Lb-",
    "outputId": "d8569a9c-a35a-41eb-fe12-f69d83846acf"
   },
   "outputs": [],
   "source": [
    "show_audio_spectrum(extrahls_sample)"
   ]
  },
  {
   "cell_type": "code",
   "execution_count": null,
   "metadata": {
    "execution": {
     "iopub.execute_input": "2023-01-04T14:18:46.502683Z",
     "iopub.status.busy": "2023-01-04T14:18:46.502385Z",
     "iopub.status.idle": "2023-01-04T14:18:47.208521Z",
     "shell.execute_reply": "2023-01-04T14:18:47.207918Z",
     "shell.execute_reply.started": "2023-01-04T14:18:46.502652Z"
    }
   },
   "outputs": [],
   "source": [
    "show_spectrogram(extrahls_sample)"
   ]
  },
  {
   "cell_type": "code",
   "execution_count": null,
   "metadata": {
    "execution": {
     "iopub.execute_input": "2023-01-04T14:18:47.336862Z",
     "iopub.status.busy": "2023-01-04T14:18:47.336527Z",
     "iopub.status.idle": "2023-01-04T14:18:47.621563Z",
     "shell.execute_reply": "2023-01-04T14:18:47.620889Z",
     "shell.execute_reply.started": "2023-01-04T14:18:47.33683Z"
    }
   },
   "outputs": [],
   "source": [
    "show_mfcc_features(extrahls_sample)"
   ]
  },
  {
   "cell_type": "markdown",
   "metadata": {
    "id": "iI0dbCA03s9v"
   },
   "source": [
    "# Data Preprocessing"
   ]
  },
  {
   "cell_type": "code",
   "execution_count": null,
   "metadata": {
    "execution": {
     "iopub.execute_input": "2023-01-04T10:46:01.753588Z",
     "iopub.status.busy": "2023-01-04T10:46:01.75332Z",
     "iopub.status.idle": "2023-01-04T10:46:01.759231Z",
     "shell.execute_reply": "2023-01-04T10:46:01.758518Z",
     "shell.execute_reply.started": "2023-01-04T10:46:01.753557Z"
    }
   },
   "outputs": [],
   "source": [
    "def add_noise(data,x):\n",
    "    noise = np.random.randn(len(data))\n",
    "    data_noise = data + x * noise\n",
    "    return data_noise\n",
    "\n",
    "def shift(data,x):\n",
    "    return np.roll(data, x)\n",
    "\n",
    "def stretch(data, rate):\n",
    "    data = librosa.effects.time_stretch(data, rate)\n",
    "    return data\n",
    "\n",
    "def pitch_shift (data , rate):\n",
    "    data = librosa.effects.pitch_shift(data, sr=220250, n_steps=rate)\n",
    "    return data"
   ]
  },
  {
   "cell_type": "code",
   "execution_count": null,
   "metadata": {
    "execution": {
     "iopub.execute_input": "2023-01-04T14:23:48.523971Z",
     "iopub.status.busy": "2023-01-04T14:23:48.523705Z",
     "iopub.status.idle": "2023-01-04T14:23:48.533682Z",
     "shell.execute_reply": "2023-01-04T14:23:48.532684Z",
     "shell.execute_reply.started": "2023-01-04T14:23:48.523943Z"
    },
    "id": "lb6EDIImPiaA"
   },
   "outputs": [],
   "source": [
    "def load_file_data (folder, file_names, duration=10, sr=22050):\n",
    "    '''\n",
    "        Extract MFCC feature from the Sound data from the audio data. \n",
    "        Augmentation of sound data by adding Noise, streaching and shifting.\n",
    "        52 features are extracted from each audio data and used to train the model.\n",
    "        \n",
    "        Args: \n",
    "            dir_: Input directory to the Sound input file.\n",
    "        \n",
    "        Returns:\n",
    "            data: list of features extracted from the sound file.\n",
    "    '''\n",
    "    input_length=sr*duration\n",
    "    features = 52\n",
    "    data = []\n",
    "    for file_name in file_names:\n",
    "        try:\n",
    "            sound_file = folder+file_name\n",
    "            X, sr = librosa.load( sound_file, sr=sr, duration=duration) \n",
    "            dur = librosa.get_duration(y=X, sr=sr)\n",
    "            # pad audio file same duration\n",
    "            if (round(dur) < duration):\n",
    "                print (\"fixing audio lenght :\", file_name)\n",
    "                X = librosa.util.fix_length(X, input_length)  \n",
    "                \n",
    "            # extract normalized mfcc feature from data\n",
    "            mfccs = np.mean(librosa.feature.mfcc(y=X, sr=sr, n_mfcc=features).T,axis=0) \n",
    "            feature = np.array(mfccs).reshape([-1,1])\n",
    "            data.append(feature)\n",
    "            \n",
    "            stretch_data_1 = stretch (X, 0.8)\n",
    "            mfccs_stretch_1 = np.mean(librosa.feature.mfcc(y=stretch_data_1, sr=sr, n_mfcc=features).T,axis=0) \n",
    "            feature_1 = np.array(mfccs_stretch_1).reshape([-1,1])\n",
    "            data.append(feature_1)\n",
    "            \n",
    "            stretch_data_2 = stretch (X, 1.2) \n",
    "            mfccs_stretch_2 = np.mean(librosa.feature.mfcc(y=stretch_data_2, sr=sr, n_mfcc=features).T,axis=0) \n",
    "            feature_2 = np.array(mfccs_stretch_2).reshape([-1,1])\n",
    "            data.append(feature_2)\n",
    "            \n",
    "        except Exception as e:\n",
    "            print(\"Error encountered while parsing file: \", file)        \n",
    "        \n",
    "    return data"
   ]
  },
  {
   "cell_type": "markdown",
   "metadata": {
    "id": "p97970y70v0d"
   },
   "source": [
    "## Encoding"
   ]
  },
  {
   "cell_type": "code",
   "execution_count": null,
   "metadata": {
    "execution": {
     "iopub.execute_input": "2023-01-04T14:26:36.224133Z",
     "iopub.status.busy": "2023-01-04T14:26:36.223428Z",
     "iopub.status.idle": "2023-01-04T14:26:36.230285Z",
     "shell.execute_reply": "2023-01-04T14:26:36.229413Z",
     "shell.execute_reply.started": "2023-01-04T14:26:36.224096Z"
    },
    "id": "JmiSrEs-OI0N",
    "outputId": "5d2f0f6f-b295-4e18-d56f-2abd5ca84cfd"
   },
   "outputs": [],
   "source": [
    "# simple encoding of categories, convert to only 3 types:\n",
    "# Normal (Include extrahls and extrastole)\n",
    "# Murmur\n",
    "# Artifact\n",
    "\n",
    "# Map label text to integer\n",
    "CLASSES = ['artifact','murmur','normal']\n",
    "NB_CLASSES=len(CLASSES)\n",
    "\n",
    "# Map integer value to text labels\n",
    "label_to_int = {k:v for v,k in enumerate(CLASSES)}\n",
    "print (label_to_int)\n",
    "print (\" \")\n",
    "int_to_label = {v:k for k,v in label_to_int.items()}\n",
    "print(int_to_label)"
   ]
  },
  {
   "cell_type": "markdown",
   "metadata": {},
   "source": [
    "## Data Augmenation and Feature Extraction"
   ]
  },
  {
   "cell_type": "code",
   "execution_count": null,
   "metadata": {
    "execution": {
     "iopub.execute_input": "2023-01-04T11:03:35.528374Z",
     "iopub.status.busy": "2023-01-04T11:03:35.527936Z",
     "iopub.status.idle": "2023-01-04T11:09:11.566663Z",
     "shell.execute_reply": "2023-01-04T11:09:11.564024Z",
     "shell.execute_reply.started": "2023-01-04T11:03:35.528331Z"
    },
    "id": "SJg66whqQLI0",
    "outputId": "9fb393f1-950c-4bba-f509-78aac94dd1b0",
    "scrolled": true
   },
   "outputs": [],
   "source": [
    "# 22 KHz\n",
    "SAMPLE_RATE = 22050\n",
    "# 10 seconds\n",
    "MAX_SOUND_CLIP_DURATION=10\n",
    "\n",
    "artifact_files = fnmatch.filter(os.listdir(artifact_data), 'artifact*.wav')\n",
    "artifact_sounds = load_file_data (folder=artifact_data, file_names = artifact_files, duration=MAX_SOUND_CLIP_DURATION)\n",
    "artifact_labels = [0 for items in artifact_sounds]\n",
    "\n",
    "normal_files = fnmatch.filter(os.listdir(normal_data), 'normal*.wav')\n",
    "normal_sounds = load_file_data(folder=normal_data,file_names=normal_files, duration=MAX_SOUND_CLIP_DURATION)\n",
    "normal_labels = [2 for items in normal_sounds]\n",
    "\n",
    "extrahls_files = fnmatch.filter(os.listdir(extrahls_data), 'extrahls*.wav')\n",
    "extrahls_sounds = load_file_data(folder=extrahls_data,file_names=extrahls_files, duration=MAX_SOUND_CLIP_DURATION)\n",
    "extrahls_labels = [2 for items in extrahls_sounds]\n",
    "\n",
    "murmur_files = fnmatch.filter(os.listdir(murmur_data), 'murmur*.wav')\n",
    "murmur_sounds = load_file_data(folder=murmur_data,file_names=murmur_files, duration=MAX_SOUND_CLIP_DURATION)\n",
    "murmur_labels = [1 for items in murmur_sounds]\n",
    "\n",
    "\n",
    "extrastole_files = fnmatch.filter(os.listdir(extrastole_data), 'extrastole*.wav')\n",
    "extrastole_sounds = load_file_data(folder=extrastole_data,file_names=extrastole_files, duration=MAX_SOUND_CLIP_DURATION)\n",
    "extrastole_labels = [2 for items in extrastole_sounds]\n",
    "\n",
    "print (\"Loading Done\")\n"
   ]
  },
  {
   "cell_type": "code",
   "execution_count": null,
   "metadata": {
    "execution": {
     "iopub.execute_input": "2023-01-04T11:09:11.578172Z",
     "iopub.status.busy": "2023-01-04T11:09:11.577916Z",
     "iopub.status.idle": "2023-01-04T11:11:33.274221Z",
     "shell.execute_reply": "2023-01-04T11:11:33.27309Z",
     "shell.execute_reply.started": "2023-01-04T11:09:11.578134Z"
    },
    "id": "LODtSKC0V2V9",
    "outputId": "5b5c1fad-6431-441d-ef34-024cf52d76d6",
    "scrolled": true
   },
   "outputs": [],
   "source": [
    "# unlabel_datala files\n",
    "Bunlabelledtest_files = fnmatch.filter(os.listdir(unlabel_data), 'Bunlabelledtest*.wav')\n",
    "Bunlabelledtest_sounds = load_file_data(folder=unlabel_data,file_names=Bunlabelledtest_files, duration=MAX_SOUND_CLIP_DURATION)\n",
    "Bunlabelledtest_labels = [-1 for items in Bunlabelledtest_sounds]\n",
    "\n",
    "Aunlabelledtest_files = fnmatch.filter(os.listdir(unlabel_data), 'Aunlabelledtest*.wav')\n",
    "Aunlabelledtest_sounds = load_file_data(folder=unlabel_data,file_names=Aunlabelledtest_files, duration=MAX_SOUND_CLIP_DURATION)\n",
    "Aunlabelledtest_labels = [-1 for items in Aunlabelledtest_sounds]\n",
    "\n",
    "\n",
    "print (\"Loading of unlabel data done\")\n"
   ]
  },
  {
   "cell_type": "markdown",
   "metadata": {
    "id": "9us1ewHD1GuQ"
   },
   "source": [
    "## Concatenation"
   ]
  },
  {
   "cell_type": "code",
   "execution_count": null,
   "metadata": {
    "execution": {
     "iopub.execute_input": "2023-01-04T11:14:58.087264Z",
     "iopub.status.busy": "2023-01-04T11:14:58.086954Z",
     "iopub.status.idle": "2023-01-04T11:14:58.098871Z",
     "shell.execute_reply": "2023-01-04T11:14:58.097848Z",
     "shell.execute_reply.started": "2023-01-04T11:14:58.087214Z"
    },
    "id": "By4Pd0U6VGkP",
    "outputId": "fbbd6ccc-a219-4b68-a9be-f89f05455ad1"
   },
   "outputs": [],
   "source": [
    "#combine set-a and set-b \n",
    "x_data = np.concatenate((artifact_sounds, normal_sounds,extrahls_sounds,murmur_sounds,extrastole_sounds))\n",
    "\n",
    "y_data = np.concatenate((artifact_labels, normal_labels,extrahls_labels,murmur_labels,extrastole_labels))\n",
    "\n",
    "test_x = np.concatenate((Aunlabelledtest_sounds,Bunlabelledtest_sounds))\n",
    "test_y = np.concatenate((Aunlabelledtest_labels,Bunlabelledtest_labels))\n",
    "\n",
    "print (\"combined training data record: \",len(y_data), len(test_y))"
   ]
  },
  {
   "cell_type": "markdown",
   "metadata": {
    "id": "bOSEjAec1OYg"
   },
   "source": [
    "## Data Split\n"
   ]
  },
  {
   "cell_type": "code",
   "execution_count": null,
   "metadata": {
    "execution": {
     "iopub.execute_input": "2023-01-04T11:15:41.718055Z",
     "iopub.status.busy": "2023-01-04T11:15:41.717799Z",
     "iopub.status.idle": "2023-01-04T11:15:42.512947Z",
     "shell.execute_reply": "2023-01-04T11:15:42.512243Z",
     "shell.execute_reply.started": "2023-01-04T11:15:41.718024Z"
    },
    "id": "Pj_GdJOmQlLi"
   },
   "outputs": [],
   "source": [
    "# shuffle - whether or not to shuffle the data before splitting. If shuffle=False then stratify must be None.\n",
    "\n",
    "# split data into Train, Validation and Test\n",
    "x_train, x_test, y_train, y_test = train_test_split(x_data, y_data, train_size=0.8, random_state=42, shuffle=True)\n",
    "x_train, x_val, y_train, y_val = train_test_split(x_train, y_train, train_size=0.9, random_state=42, shuffle=True)\n",
    "\n",
    "# One-Hot encoding for classes\n",
    "y_train = np.array(tf.keras.utils.to_categorical(y_train, len(CLASSES)))\n",
    "y_test = np.array(tf.keras.utils.to_categorical(y_test, len(CLASSES)))\n",
    "y_val = np.array(tf.keras.utils.to_categorical(y_val, len(CLASSES)))\n",
    "test_y=np.array(tf.keras.utils.to_categorical(test_y, len(CLASSES)))"
   ]
  },
  {
   "cell_type": "markdown",
   "metadata": {
    "id": "JvWHoFzH338v"
   },
   "source": [
    "## Correct Imbalnced Data"
   ]
  },
  {
   "cell_type": "code",
   "execution_count": null,
   "metadata": {
    "execution": {
     "iopub.execute_input": "2023-01-04T11:16:53.30077Z",
     "iopub.status.busy": "2023-01-04T11:16:53.300495Z",
     "iopub.status.idle": "2023-01-04T11:16:53.307239Z",
     "shell.execute_reply": "2023-01-04T11:16:53.306559Z",
     "shell.execute_reply.started": "2023-01-04T11:16:53.300737Z"
    },
    "id": "zXh6Im-i5gOF",
    "outputId": "630dacab-d7fc-408d-fe1d-5cafb2eb3fbb"
   },
   "outputs": [],
   "source": [
    "# class weight \n",
    "TRAIN_IMG_COUNT = 578\n",
    "COUNT_0 = 40  #artifact\n",
    "COUNT_1 = 129 #murmur\n",
    "COUNT_2 = 409 #normal\n",
    "weight_for_0 = TRAIN_IMG_COUNT / (3 * COUNT_0)\n",
    "weight_for_1 = TRAIN_IMG_COUNT / (3 * COUNT_1)\n",
    "weight_for_2 = TRAIN_IMG_COUNT / (3 * COUNT_2)\n",
    "class_weight = {0: weight_for_0, 1: weight_for_1, 2: weight_for_2}\n",
    "class_weight"
   ]
  },
  {
   "cell_type": "markdown",
   "metadata": {},
   "source": [
    "# LSTM Model"
   ]
  },
  {
   "cell_type": "code",
   "execution_count": null,
   "metadata": {
    "execution": {
     "iopub.execute_input": "2023-01-04T11:22:31.682959Z",
     "iopub.status.busy": "2023-01-04T11:22:31.6827Z",
     "iopub.status.idle": "2023-01-04T11:22:31.687724Z",
     "shell.execute_reply": "2023-01-04T11:22:31.686791Z",
     "shell.execute_reply.started": "2023-01-04T11:22:31.682931Z"
    }
   },
   "outputs": [],
   "source": [
    "x_train_lstm = x_train\n",
    "x_val_lstm = x_test\n",
    "x_test_lstm = x_val\n",
    "\n",
    "y_train_lstm = y_train\n",
    "y_val_lstm = y_test\n",
    "y_test_lstm = y_val"
   ]
  },
  {
   "cell_type": "markdown",
   "metadata": {},
   "source": [
    "## Build Model"
   ]
  },
  {
   "cell_type": "code",
   "execution_count": null,
   "metadata": {
    "execution": {
     "iopub.execute_input": "2023-01-04T11:22:38.858991Z",
     "iopub.status.busy": "2023-01-04T11:22:38.858719Z",
     "iopub.status.idle": "2023-01-04T11:22:39.574043Z",
     "shell.execute_reply": "2023-01-04T11:22:39.573321Z",
     "shell.execute_reply.started": "2023-01-04T11:22:38.858956Z"
    }
   },
   "outputs": [],
   "source": [
    "lstm_model = Sequential()\n",
    "\n",
    "lstm_model.add(Conv1D(2048, kernel_size=5, strides=1, padding='same', activation='relu', input_shape=(52, 1)))\n",
    "lstm_model.add(MaxPooling1D(pool_size=2, strides = 2, padding = 'same'))\n",
    "lstm_model.add(BatchNormalization())\n",
    "\n",
    "lstm_model.add(Conv1D(1024, kernel_size=5, strides=1, padding='same', activation='relu', input_shape=(52, 1)))\n",
    "lstm_model.add(MaxPooling1D(pool_size=2, strides = 2, padding = 'same'))\n",
    "lstm_model.add(BatchNormalization())\n",
    "\n",
    "lstm_model.add(Conv1D(512, kernel_size=5, strides=1, padding='same', activation='relu'))\n",
    "lstm_model.add(MaxPooling1D(pool_size=2, strides = 2, padding = 'same'))\n",
    "lstm_model.add(BatchNormalization())\n",
    "\n",
    "lstm_model.add(LSTM(256, return_sequences=True))\n",
    "lstm_model.add(LSTM(128))\n",
    "\n",
    "\n",
    "lstm_model.add(Dense(64, activation='relu'))\n",
    "lstm_model.add(Dropout(0.5))\n",
    "\n",
    "lstm_model.add(Dense(32, activation='relu'))\n",
    "lstm_model.add(Dropout(0.5))\n",
    "\n",
    "lstm_model.add(Dense(3, activation='softmax'))\n",
    "\n",
    "lstm_model.summary()"
   ]
  },
  {
   "cell_type": "code",
   "execution_count": null,
   "metadata": {
    "execution": {
     "iopub.execute_input": "2023-01-04T11:22:48.075733Z",
     "iopub.status.busy": "2023-01-04T11:22:48.075457Z",
     "iopub.status.idle": "2023-01-04T11:22:48.087694Z",
     "shell.execute_reply": "2023-01-04T11:22:48.086624Z",
     "shell.execute_reply.started": "2023-01-04T11:22:48.075693Z"
    }
   },
   "outputs": [],
   "source": [
    "optimiser = tf.keras.optimizers.Adam(learning_rate = 0.0001)\n",
    "lstm_model.compile(optimizer=optimiser,\n",
    "                  loss='categorical_crossentropy',\n",
    "                  metrics=['accuracy'])\n",
    "\n",
    "cb = [EarlyStopping(patience=20,monitor='val_accuracy',mode='max',restore_best_weights=True),\n",
    "      ModelCheckpoint(\"/kaggle/working/Heart_LSTM_CNN_1.h5\",save_best_only=True)]"
   ]
  },
  {
   "cell_type": "markdown",
   "metadata": {},
   "source": [
    "## Train Model"
   ]
  },
  {
   "cell_type": "code",
   "execution_count": null,
   "metadata": {
    "execution": {
     "iopub.execute_input": "2023-01-04T11:23:11.409487Z",
     "iopub.status.busy": "2023-01-04T11:23:11.409157Z",
     "iopub.status.idle": "2023-01-04T11:29:16.661258Z",
     "shell.execute_reply": "2023-01-04T11:29:16.660507Z",
     "shell.execute_reply.started": "2023-01-04T11:23:11.409453Z"
    }
   },
   "outputs": [],
   "source": [
    "history = lstm_model.fit(x_train_lstm, y_train_lstm, \n",
    "                         validation_data=(x_val_lstm, y_val_lstm),\n",
    "                         batch_size=8, epochs=250, \n",
    "                         class_weight=class_weight,callbacks = cb )"
   ]
  },
  {
   "cell_type": "markdown",
   "metadata": {},
   "source": [
    "## Evaluate Model"
   ]
  },
  {
   "cell_type": "code",
   "execution_count": null,
   "metadata": {
    "execution": {
     "iopub.execute_input": "2023-01-04T11:31:15.320285Z",
     "iopub.status.busy": "2023-01-04T11:31:15.319997Z",
     "iopub.status.idle": "2023-01-04T11:31:15.549551Z",
     "shell.execute_reply": "2023-01-04T11:31:15.548871Z",
     "shell.execute_reply.started": "2023-01-04T11:31:15.320253Z"
    }
   },
   "outputs": [],
   "source": [
    "lstm_model.evaluate(x_val_lstm, y_val_lstm)"
   ]
  },
  {
   "cell_type": "code",
   "execution_count": null,
   "metadata": {
    "execution": {
     "iopub.execute_input": "2023-01-04T11:31:19.38641Z",
     "iopub.status.busy": "2023-01-04T11:31:19.386094Z",
     "iopub.status.idle": "2023-01-04T11:31:19.6443Z",
     "shell.execute_reply": "2023-01-04T11:31:19.643612Z",
     "shell.execute_reply.started": "2023-01-04T11:31:19.386378Z"
    }
   },
   "outputs": [],
   "source": [
    "def plot_loss_curves(history):\n",
    "  \"\"\"\n",
    "  Returns separate loss curves for training and validation metrics.\n",
    "  Args:\n",
    "    history: TensorFlow model History object (see: https://www.tensorflow.org/api_docs/python/tf/keras/callbacks/History)\n",
    "  \"\"\" \n",
    "  loss = history.history['loss']\n",
    "  val_loss = history.history['val_loss']\n",
    "\n",
    "  accuracy = history.history['accuracy']\n",
    "  val_accuracy = history.history['val_accuracy']\n",
    "\n",
    "  epochs = range(len(history.history['loss']))\n",
    "\n",
    "  # Plot loss\n",
    "#   plt.plot(epochs, loss, label='training_loss')\n",
    "#   plt.plot(epochs, val_loss, label='val_loss')\n",
    "#   plt.title('Loss')\n",
    "#   plt.xlabel('Epochs')\n",
    "#   plt.legend()\n",
    "#   plt.grid()\n",
    "\n",
    "\n",
    "  # Plot accuracy\n",
    "  plt.figure()\n",
    "  plt.grid()\n",
    "  plt.plot(epochs, accuracy, label='training_accuracy')\n",
    "  plt.plot(epochs, val_accuracy, label='val_accuracy')\n",
    "  plt.title('Accuracy')\n",
    "  plt.xlabel('Epochs')\n",
    "  plt.legend();\n",
    "\n",
    "plot_loss_curves(history)"
   ]
  },
  {
   "cell_type": "markdown",
   "metadata": {},
   "source": [
    "## Results"
   ]
  },
  {
   "cell_type": "code",
   "execution_count": null,
   "metadata": {
    "execution": {
     "iopub.execute_input": "2023-01-04T11:33:05.224887Z",
     "iopub.status.busy": "2023-01-04T11:33:05.224616Z",
     "iopub.status.idle": "2023-01-04T11:33:05.549993Z",
     "shell.execute_reply": "2023-01-04T11:33:05.549331Z",
     "shell.execute_reply.started": "2023-01-04T11:33:05.224855Z"
    }
   },
   "outputs": [],
   "source": [
    "\n",
    "classes = [\"artifact\" ,\"murmur \", \"normal\"]\n",
    "\n",
    "preds = lstm_model.predict(x_test_lstm)\n",
    "classpreds = [ np.argmax(t) for t in preds ]\n",
    "y_testclass = [np.argmax(t) for t in y_test_lstm]\n",
    "cm = confusion_matrix(y_testclass, classpreds)\n",
    "\n",
    "plt.figure(figsize=(8, 6), dpi=80, facecolor='w', edgecolor='k')\n",
    "ax = sns.heatmap(cm, cmap='Blues', annot=True, fmt='d', xticklabels=classes, yticklabels=classes)\n",
    "\n",
    "plt.title('')\n",
    "plt.xlabel('Prediction')\n",
    "plt.ylabel('Truth')\n",
    "plt.show(ax)"
   ]
  },
  {
   "cell_type": "code",
   "execution_count": null,
   "metadata": {
    "execution": {
     "iopub.execute_input": "2023-01-04T11:33:06.241054Z",
     "iopub.status.busy": "2023-01-04T11:33:06.240825Z",
     "iopub.status.idle": "2023-01-04T11:33:06.251733Z",
     "shell.execute_reply": "2023-01-04T11:33:06.251033Z",
     "shell.execute_reply.started": "2023-01-04T11:33:06.241027Z"
    }
   },
   "outputs": [],
   "source": [
    "print(classification_report(y_testclass, classpreds, target_names=classes))"
   ]
  },
  {
   "cell_type": "markdown",
   "metadata": {},
   "source": [
    "## Prediction "
   ]
  },
  {
   "cell_type": "code",
   "execution_count": null,
   "metadata": {
    "execution": {
     "iopub.execute_input": "2023-01-04T13:12:56.49953Z",
     "iopub.status.busy": "2023-01-04T13:12:56.499248Z",
     "iopub.status.idle": "2023-01-04T13:12:56.528475Z",
     "shell.execute_reply": "2023-01-04T13:12:56.527833Z",
     "shell.execute_reply.started": "2023-01-04T13:12:56.499449Z"
    }
   },
   "outputs": [],
   "source": [
    "def heart_prediction (file_path, duration=10, sr=22050):\n",
    "    classes=[\"artifact\",\"murmur\",\"normal\"]\n",
    "    input_length=sr*duration\n",
    "    \n",
    "    X, sr = librosa.load(file_path, sr=sr, duration=duration) \n",
    "    dur = librosa.get_duration(y=X, sr=sr)\n",
    "    \n",
    "    # pad audio file same duration\n",
    "    if (round(dur) < duration):\n",
    "        X = librosa.util.fix_length(X, input_length)\n",
    "        \n",
    "    mfccs = np.mean(librosa.feature.mfcc(y=X, sr=sr, n_mfcc=52, n_fft=512,hop_length=2048).T,axis=0)\n",
    "    feature = np.array(mfccs).reshape([-1,1])\n",
    "    \n",
    "    preds=lstm_model.predict(mfccs.reshape(1,52,1))\n",
    "    preds=classes [np.argmax(preds)]\n",
    "    confidence = np.amax(preds)\n",
    "    return preds, confidence "
   ]
  }
 ],
 "metadata": {
  "kernelspec": {
   "display_name": "Python 3 (ipykernel)",
   "language": "python",
   "name": "python3"
  },
  "language_info": {
   "codemirror_mode": {
    "name": "ipython",
    "version": 3
   },
   "file_extension": ".py",
   "mimetype": "text/x-python",
   "name": "python",
   "nbconvert_exporter": "python",
   "pygments_lexer": "ipython3",
   "version": "3.8.16"
  }
 },
 "nbformat": 4,
 "nbformat_minor": 4
}
