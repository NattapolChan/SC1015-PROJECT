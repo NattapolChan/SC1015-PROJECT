{
 "cells": [
  {
   "cell_type": "code",
   "execution_count": 1,
   "metadata": {},
   "outputs": [
    {
     "name": "stderr",
     "output_type": "stream",
     "text": [
      "/Users/nattapolchanpaisit/miniforge3/lib/python3.10/site-packages/torchvision/io/image.py:13: UserWarning: Failed to load image Python extension: dlopen(/Users/nattapolchanpaisit/miniforge3/lib/python3.10/site-packages/torchvision/image.so, 0x0006): Library not loaded: @rpath/libjpeg.8.dylib\n",
      "  Referenced from: <BE0CCD9A-269A-30E2-A23C-DA45E89EBB1F> /Users/nattapolchanpaisit/miniforge3/lib/python3.10/site-packages/torchvision/image.so\n",
      "  Reason: tried: '/Users/nattapolchanpaisit/miniforge3/lib/python3.10/site-packages/torchvision/../../../libjpeg.8.dylib' (no such file), '/Users/nattapolchanpaisit/miniforge3/lib/python3.10/site-packages/torchvision/../../../libjpeg.8.dylib' (no such file), '/Users/nattapolchanpaisit/miniforge3/lib/python3.10/lib-dynload/../../libjpeg.8.dylib' (no such file), '/Users/nattapolchanpaisit/miniforge3/bin/../lib/libjpeg.8.dylib' (no such file), '/System/Volumes/Preboot/Cryptexes/OS@rpath/libjpeg.8.dylib' (no such file), '/Users/nattapolchanpaisit/miniforge3/lib/python3.10/site-packages/torchvision/../../../libjpeg.8.dylib' (no such file), '/Users/nattapolchanpaisit/miniforge3/lib/python3.10/site-packages/torchvision/../../../libjpeg.8.dylib' (no such file), '/Users/nattapolchanpaisit/miniforge3/lib/python3.10/lib-dynload/../../libjpeg.8.dylib' (no such file), '/Users/nattapolchanpaisit/miniforge3/bin/../lib/libjpeg.8.dylib' (no such file), '/usr/local/lib/libjpeg.8.dylib' (no such file), '/usr/lib/libjpeg.8.dylib' (no such file, not in dyld cache)\n",
      "  warn(f\"Failed to load image Python extension: {e}\")\n"
     ]
    }
   ],
   "source": [
    "from utils.dataset import set_b_dataset, set_b_dataclass\n",
    "import torch\n",
    "import torch.nn as nn\n",
    "from torch.utils.tensorboard import SummaryWriter\n",
    "import torchvision\n",
    "import torchvision.models as models\n",
    "from random import sample\n",
    "\n",
    "PROJECT_DIR = '/Users/nattapolchanpaisit/Documents/GitHub/Algorithm/SC1015-PROJECT/'\n",
    "N_TRAIN = 300\n",
    "\n",
    "train_id = tuple(sample([i for i in range(461)], N_TRAIN))\n",
    "\n",
    "dataset = set_b_dataclass(PROJECT_DIR, output_width=200, list_id=train_id)\n",
    "\n",
    "# Writer will output to ./runs/ directory by default\n",
    "# writer = SummaryWriter()\n",
    "\n",
    "# transform = transforms.Compose([transforms.ToTensor(), transforms.Normalize((0.5,), (0.5,))])\n",
    "# trainset = datasets.MNIST('mnist_train', train=True, download=True, transform=transform)\n",
    "# trainloader = torch.utils.data.DataLoader(trainset, batch_size=64, shuffle=True)\n",
    "# model = torchvision.models.resnet50(False)\n",
    "# # Have ResNet model take in grayscale rather than RGB\n",
    "# model.conv1 = torch.nn.Conv2d(1, 64, kernel_size=7, stride=2, padding=3, bias=False)\n",
    "# images, labels = next(iter(trainloader))\n",
    "\n",
    "# grid = torchvision.utils.make_grid(images)\n",
    "# writer.add_image('images', grid, 0)\n",
    "# writer.add_graph(model, images)\n",
    "# writer.close()"
   ]
  },
  {
   "cell_type": "code",
   "execution_count": 3,
   "metadata": {},
   "outputs": [
    {
     "name": "stdout",
     "output_type": "stream",
     "text": [
      "0\n",
      "1\n",
      "2\n",
      "3\n",
      "4\n",
      "5\n",
      "6\n",
      "7\n",
      "8\n",
      "9\n",
      "10\n",
      "11\n",
      "12\n",
      "13\n",
      "14\n",
      "15\n",
      "16\n",
      "17\n",
      "18\n"
     ]
    },
    {
     "name": "stderr",
     "output_type": "stream",
     "text": [
      "/Users/nattapolchanpaisit/miniforge3/lib/python3.10/site-packages/torchvision/models/_utils.py:135: UserWarning: Using 'weights' as positional parameter(s) is deprecated since 0.13 and may be removed in the future. Please use keyword parameter(s) instead.\n",
      "  warnings.warn(\n",
      "/Users/nattapolchanpaisit/miniforge3/lib/python3.10/site-packages/torchvision/models/_utils.py:223: UserWarning: Arguments other than a weight enum or `None` for 'weights' are deprecated since 0.13 and may be removed in the future. The current behavior is equivalent to passing `weights=None`.\n",
      "  warnings.warn(msg)\n"
     ]
    }
   ],
   "source": [
    "from torch.utils.data import DataLoader\n",
    "\n",
    "writer = SummaryWriter()\n",
    "train_id = tuple(sample([i for i in range(461)], N_TRAIN))\n",
    "trainset = set_b_dataclass(PROJECT_DIR, output_width=200, list_id=train_id)\n",
    "trainloader = DataLoader(trainset, batch_size=16, shuffle=True)\n",
    "model = torchvision.models.resnet18(False)\n",
    "\n",
    "for epoch, data in enumerate(trainloader):\n",
    "    stft, label = data\n",
    "    print(epoch)"
   ]
  }
 ],
 "metadata": {
  "kernelspec": {
   "display_name": "base",
   "language": "python",
   "name": "python3"
  },
  "language_info": {
   "codemirror_mode": {
    "name": "ipython",
    "version": 3
   },
   "file_extension": ".py",
   "mimetype": "text/x-python",
   "name": "python",
   "nbconvert_exporter": "python",
   "pygments_lexer": "ipython3",
   "version": "3.10.8"
  },
  "orig_nbformat": 4
 },
 "nbformat": 4,
 "nbformat_minor": 2
}
