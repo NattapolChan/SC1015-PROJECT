{
 "cells": [
  {
   "cell_type": "code",
   "execution_count": 1,
   "id": "a366a7ef",
   "metadata": {},
   "outputs": [],
   "source": [
    "from tsai.all import *\n",
    "import pandas as pd\n",
    "import librosa\n",
    "import numpy as np\n",
    "import matplotlib.pyplot as plt\n",
    "import fnmatch\n",
    "from sklearn.model_selection import train_test_split\n",
    "device = torch.device(\"mps\")"
   ]
  },
  {
   "cell_type": "code",
   "execution_count": 2,
   "id": "2f90c2fc",
   "metadata": {},
   "outputs": [],
   "source": [
    "metadata = pd.read_csv(\"dataset/set_b.csv\")"
   ]
  },
  {
   "cell_type": "code",
   "execution_count": 3,
   "id": "3e64db40",
   "metadata": {},
   "outputs": [],
   "source": [
    "path = 'dataset/'\n",
    "dur = 5\n",
    "sr = 22050"
   ]
  },
  {
   "cell_type": "code",
   "execution_count": 6,
   "id": "f8c357d7",
   "metadata": {},
   "outputs": [],
   "source": [
    "def stretch(data, rate):\n",
    "    data = librosa.effects.time_stretch(data, rate)\n",
    "    return data\n",
    "def reshape_tsai(arr):\n",
    "    return np.array(arr).reshape((-1, 1, 52))"
   ]
  },
  {
   "cell_type": "code",
   "execution_count": 7,
   "id": "73dfbcaf",
   "metadata": {},
   "outputs": [],
   "source": [
    "def load_file_data (folder, file_names, duration=10, sr=22050):\n",
    "    '''\n",
    "        Extract MFCC feature from the Sound data from the audio data. \n",
    "        Augmentation of sound data by adding Noise, streaching and shifting.\n",
    "        52 features are extracted from each audio data and used to train the model.\n",
    "        \n",
    "        Args: \n",
    "            dir_: Input directory to the Sound input file.\n",
    "        \n",
    "        Returns:\n",
    "            data: list of features extracted from the sound file.\n",
    "    '''\n",
    "    input_length=sr*duration\n",
    "    features = 52\n",
    "    data = []\n",
    "    for file_name in file_names:\n",
    "        sound_file = folder+file_name\n",
    "        X, sr = librosa.load( sound_file, sr=sr, duration=duration) \n",
    "        dur = librosa.get_duration(y=X, sr=sr)\n",
    "        # pad audio file same duration\n",
    "        if (round(dur) < duration):\n",
    "            print (\"fixing audio lenght :\", file_name)\n",
    "            X = librosa.util.fix_length(X, duration)\n",
    "            \n",
    "        #extract normalized mfcc feature from data\n",
    "        mfccs = np.mean(librosa.feature.mfcc(y=X, sr=sr, n_mfcc=features).T,axis=0) \n",
    "        feature = np.array(mfccs).reshape([-1,1])\n",
    "        data.append(feature)\n",
    "\n",
    "#             stretch_data_1 = stretch (X, 0.8)\n",
    "#             mfccs_stretch_1 = np.mean(librosa.feature.mfcc(y=stretch_data_1, sr=sr, n_mfcc=features).T,axis=0) \n",
    "#             feature_1 = np.array(mfccs_stretch_1).reshape([-1,1])\n",
    "#             data.append(feature_1)\n",
    "\n",
    "#             stretch_data_2 = stretch (X, 1.2) \n",
    "#             mfccs_stretch_2 = np.mean(librosa.feature.mfcc(y=stretch_data_2, sr=sr, n_mfcc=features).T,axis=0) \n",
    "#             feature_2 = np.array(mfccs_stretch_2).reshape([-1,1])\n",
    "#             data.append(feature_2)\n",
    "        \n",
    "    return data"
   ]
  },
  {
   "cell_type": "code",
   "execution_count": 8,
   "id": "bfeb47e4",
   "metadata": {
    "scrolled": true
   },
   "outputs": [
    {
     "name": "stdout",
     "output_type": "stream",
     "text": [
      "fixing audio lenght : normal__232_1308748524018_D1.wav\n",
      "fixing audio lenght : normal_noisynormal_173_1307973611151_C1.wav\n",
      "fixing audio lenght : normal__210_1308162935880_D2.wav\n",
      "fixing audio lenght : normal__177_1307989650056_B.wav\n",
      "fixing audio lenght : normal__208_1308159994503_C.wav\n",
      "fixing audio lenght : normal__210_1308162935880_D1.wav\n",
      "fixing audio lenght : normal__215_1308245664733_C.wav\n",
      "fixing audio lenght : normal_noisynormal_189_1308075231945_A1.wav\n",
      "fixing audio lenght : normal__129_1306344506305_B1.wav\n",
      "fixing audio lenght : normal__175_1307987962616_B.wav\n",
      "fixing audio lenght : normal__143_1306763822290_C.wav\n",
      "fixing audio lenght : normal__147_1306523973811_C.wav\n",
      "fixing audio lenght : normal_noisynormal_159_1307018640315_A1.wav\n",
      "fixing audio lenght : normal__238_1309194586293_B.wav\n",
      "fixing audio lenght : normal__230_1308595300880_C.wav\n",
      "fixing audio lenght : normal_noisynormal_163_1307104470471_D1.wav\n",
      "fixing audio lenght : normal__174_1307987737137_B.wav\n",
      "fixing audio lenght : normal__176_1307988171173_B.wav\n",
      "fixing audio lenght : normal__190_1308076920011_C1.wav\n",
      "fixing audio lenght : normal__177_1307989650056_D.wav\n",
      "fixing audio lenght : normal__230_1308595300880_B.wav\n",
      "fixing audio lenght : normal__267_1309368735165_A.wav\n",
      "fixing audio lenght : normal__186_1308073648738_C1.wav\n",
      "fixing audio lenght : normal__143_1306763822290_B.wav\n",
      "fixing audio lenght : normal__177_1307989650056_A1.wav\n",
      "fixing audio lenght : normal__238_1309194586293_A.wav\n",
      "fixing audio lenght : normal__173_1307973611151_B.wav\n",
      "fixing audio lenght : normal__286_1311170606028_A1.wav\n",
      "fixing audio lenght : normal__176_1307988171173_A.wav\n",
      "fixing audio lenght : normal__173_1307973611151_C.wav\n",
      "fixing audio lenght : normal__274_1311075637574_A1.wav\n",
      "fixing audio lenght : normal__147_1306523973811_A.wav\n",
      "fixing audio lenght : normal__194_1308139824187_A1.wav\n",
      "fixing audio lenght : normal_noisynormal_144_1306522408528_A1.wav\n",
      "fixing audio lenght : normal__210_1308162935880_B1.wav\n",
      "fixing audio lenght : normal__252_1309203336604_B.wav\n",
      "fixing audio lenght : normal__134_1306428161797_C2.wav\n",
      "fixing audio lenght : normal_noisynormal_176_1307988171173_D.wav\n",
      "fixing audio lenght : normal_noisynormal_194_1308139824187_C.wav\n",
      "fixing audio lenght : normal__129_1306344506305_D1.wav\n",
      "fixing audio lenght : normal__201_1308144942432_A.wav\n",
      "fixing audio lenght : normal__175_1307987962616_B1.wav\n",
      "fixing audio lenght : normal_noisynormal_137_1306764999211_C1.wav\n",
      "fixing audio lenght : normal__232_1308748524018_B1.wav\n",
      "fixing audio lenght : normal__209_1308162216750_A.wav\n",
      "fixing audio lenght : normal__154_1306935608852_A1.wav\n",
      "fixing audio lenght : normal__235_1308749032454_C.wav\n",
      "fixing audio lenght : normal__216_1308245839516_C.wav\n",
      "fixing audio lenght : normal__186_1308073648738_D.wav\n",
      "fixing audio lenght : normal__296_1311682952647_A1.wav\n",
      "fixing audio lenght : normal__262_1309355283807_A.wav\n",
      "fixing audio lenght : normal__278_1311163365896_A1.wav\n",
      "fixing audio lenght : normal_noisynormal_170_1307970562729_C1.wav\n",
      "fixing audio lenght : normal__250_1309202496494_A.wav\n",
      "fixing audio lenght : normal__188_1308074301731_D.wav\n",
      "fixing audio lenght : normal__172_1307971284351_B.wav\n",
      "fixing audio lenght : normal__296_1311682952647_A2.wav\n",
      "fixing audio lenght : normal__256_1309351470137_A.wav\n",
      "fixing audio lenght : normal__218_1308246311449_C1.wav\n",
      "fixing audio lenght : normal__183_1308072703477_C.wav\n",
      "fixing audio lenght : normal__286_1311170606028_A.wav\n",
      "fixing audio lenght : normal__141_1306520154450_C.wav\n",
      "fixing audio lenght : normal__153_1306848820671_D1.wav\n",
      "fixing audio lenght : normal__146_1306778707532_D3.wav\n",
      "fixing audio lenght : normal__250_1309202496494_B.wav\n",
      "fixing audio lenght : normal__183_1308072703477_B.wav\n",
      "fixing audio lenght : normal_noisynormal_173_1307973611151_B.wav\n",
      "fixing audio lenght : normal__151_1306779785624_D.wav\n",
      "fixing audio lenght : normal__134_1306428161797_C.wav\n",
      "fixing audio lenght : normal__106_1306776721273_B1.wav\n",
      "fixing audio lenght : normal__155_1306935902813_B1.wav\n",
      "fixing audio lenght : normal__232_1308748524018_A.wav\n",
      "fixing audio lenght : normal__261_1309353556003_B.wav\n",
      "fixing audio lenght : normal__125_1306332456645_B.wav\n",
      "fixing audio lenght : normal__209_1308162216750_A1.wav\n",
      "fixing audio lenght : normal__159_1307018640315_B2.wav\n",
      "fixing audio lenght : normal__291_1311185210672_A.wav\n",
      "fixing audio lenght : normal__220_1308250132896_D.wav\n",
      "fixing audio lenght : normal__154_1306935608852_D.wav\n",
      "fixing audio lenght : normal__152_1306779561195_C1.wav\n",
      "fixing audio lenght : normal__179_1307990076841_D.wav\n",
      "fixing audio lenght : normal_noisynormal_178_1307989887769_B1.wav\n",
      "fixing audio lenght : normal__258_1309352253234_C.wav\n",
      "fixing audio lenght : normal__274_1311075637574_B.wav\n",
      "fixing audio lenght : normal__177_1307989650056_D1.wav\n",
      "fixing audio lenght : normal_noisynormal_137_1306764999211_A2.wav\n",
      "fixing audio lenght : normal__206_1308159601959_C.wav\n",
      "fixing audio lenght : normal__295_1311682673157_D.wav\n",
      "fixing audio lenght : normal__113_1306244002866_D.wav\n",
      "fixing audio lenght : normal__232_1308748524018_B.wav\n",
      "fixing audio lenght : normal__210_1308162935880_B.wav\n",
      "fixing audio lenght : normal__169_1307970398039_C.wav\n",
      "fixing audio lenght : normal__181_1308052613891_B.wav\n",
      "fixing audio lenght : normal__159_1307018640315_B1.wav\n",
      "fixing audio lenght : normal__128_1306344005749_D.wav\n",
      "fixing audio lenght : normal__232_1308748524018_C.wav\n",
      "fixing audio lenght : normal__158_1306947254705_B2.wav\n",
      "fixing audio lenght : normal_noisynormal_137_1306764999211_A1.wav\n",
      "fixing audio lenght : normal__172_1307971284351_B1.wav\n",
      "fixing audio lenght : normal__282_1311166081161_C.wav\n",
      "fixing audio lenght : normal__154_1306935608852_B1.wav\n",
      "fixing audio lenght : normal__159_1307018640315_A.wav\n",
      "fixing audio lenght : normal__148_1306768801551_D2.wav\n",
      "fixing audio lenght : normal__159_1307018640315_C1.wav\n",
      "fixing audio lenght : normal_noisynormal_137_1306764999211_B.wav\n",
      "fixing audio lenght : normal__154_1306935608852_B.wav\n",
      "fixing audio lenght : normal__270_1309369533040_C.wav\n",
      "fixing audio lenght : normal__174_1307987737137_B1.wav\n",
      "fixing audio lenght : normal__106_1306776721273_C2.wav\n",
      "fixing audio lenght : normal__283_1311167409239_A.wav\n",
      "fixing audio lenght : normal__204_1308159229275_D.wav\n",
      "fixing audio lenght : normal__202_1308145175747_D.wav\n",
      "fixing audio lenght : normal__274_1311075637574_D.wav\n",
      "fixing audio lenght : normal_noisynormal_234_1308748855534_B.wav\n",
      "fixing audio lenght : normal__134_1306428161797_D.wav\n",
      "fixing audio lenght : normal__273_1309370841191_B.wav\n",
      "fixing audio lenght : normal__152_1306779561195_B1.wav\n",
      "fixing audio lenght : normal__181_1308052613891_D.wav\n",
      "fixing audio lenght : normal__217_1308246111629_C1.wav\n",
      "fixing audio lenght : normal__106_1306776721273_C1.wav\n",
      "fixing audio lenght : normal_noisynormal_169_1307970398039_A.wav\n",
      "fixing audio lenght : normal_noisynormal_125_1306332456645_A1.wav\n",
      "fixing audio lenght : normal_noisynormal_158_1306947254705_B1.wav\n",
      "fixing audio lenght : normal__286_1311170606028_B1.wav\n",
      "fixing audio lenght : normal_noisynormal_142_1306763049574_D.wav\n",
      "fixing audio lenght : normal__237_1308750231222_C.wav\n",
      "fixing audio lenght : normal__133_1306759619127_D.wav\n",
      "fixing audio lenght : normal__274_1311075637574_B1.wav\n",
      "fixing audio lenght : normal__176_1307988171173_B1.wav\n",
      "fixing audio lenght : normal__215_1308245664733_C1.wav\n",
      "fixing audio lenght : normal__218_1308246311449_C.wav\n",
      "fixing audio lenght : normal__106_1306776721273_D1.wav\n",
      "fixing audio lenght : normal__180_1307990956284_A.wav\n",
      "fixing audio lenght : normal__148_1306768801551_C1.wav\n",
      "fixing audio lenght : normal__153_1306848820671_A.wav\n",
      "fixing audio lenght : normal__280_1311165195344_A.wav\n",
      "fixing audio lenght : normal__126_1306777102824_C.wav\n",
      "fixing audio lenght : normal__227_1308594233667_B.wav\n",
      "fixing audio lenght : normal__133_1306759619127_B.wav\n",
      "fixing audio lenght : normal__227_1308594233667_C.wav\n",
      "fixing audio lenght : normal_noisynormal_125_1306332456645_D.wav\n",
      "fixing audio lenght : normal_noisynormal_133_1306759619127_D1.wav\n",
      "fixing audio lenght : normal__214_1308245489717_A.wav\n",
      "fixing audio lenght : normal__190_1308076920011_D.wav\n",
      "fixing audio lenght : normal__290_1311182875320_A.wav\n",
      "fixing audio lenght : normal__278_1311163365896_A.wav\n",
      "fixing audio lenght : normal__133_1306759619127_A.wav\n",
      "fixing audio lenght : normal_noisynormal_141_1306520154450_B1.wav\n",
      "fixing audio lenght : normal__167_1307111318050_C.wav\n"
     ]
    },
    {
     "name": "stdout",
     "output_type": "stream",
     "text": [
      "fixing audio lenght : normal_noisynormal_159_1307018640315_B.wav\n",
      "fixing audio lenght : extrastole__224_1308337157445_B.wav\n",
      "fixing audio lenght : extrastole__148_1306768801551_B.wav\n",
      "fixing audio lenght : extrastole__216_1308245839516_B.wav\n",
      "fixing audio lenght : extrastole__253_1309350256198_B.wav\n",
      "fixing audio lenght : extrastole__202_1308145175747_C1.wav\n",
      "fixing audio lenght : extrastole__202_1308145175747_C2.wav\n",
      "fixing audio lenght : extrastole__215_1308245664733_B.wav\n",
      "fixing audio lenght : extrastole__134_1306428161797_C1.wav\n",
      "fixing audio lenght : extrastole__130_1306347376079_D.wav\n",
      "fixing audio lenght : extrastole__237_1308750231222_C.wav\n",
      "fixing audio lenght : extrastole__190_1308076920011_C.wav\n",
      "fixing audio lenght : extrastole__237_1308750231222_A.wav\n",
      "fixing audio lenght : extrastole__249_1309202052376_C.wav\n",
      "fixing audio lenght : extrastole__215_1308245664733_B1.wav\n",
      "fixing audio lenght : extrastole__154_1306935608852_D2.wav\n",
      "fixing audio lenght : extrastole__144_1306522408528_B1.wav\n",
      "fixing audio lenght : extrastole__265_1309367698923_C.wav\n",
      "fixing audio lenght : extrastole__274_1311075637574_A.wav\n",
      "fixing audio lenght : extrastole__207_1308159792607_B.wav\n",
      "fixing audio lenght : murmur__293_1311680805936_B1.wav\n",
      "fixing audio lenght : murmur__200_1308144251434_C.wav\n",
      "fixing audio lenght : murmur_noisymurmur_165_1307109069581_C1.wav\n",
      "fixing audio lenght : murmur__171_1307971016233_D.wav\n",
      "fixing audio lenght : murmur__193_1308078104592_C1.wav\n",
      "fixing audio lenght : murmur_noisymurmur_292_1311185449649_D.wav\n",
      "fixing audio lenght : murmur__171_1307971016233_E.wav\n",
      "fixing audio lenght : murmur__171_1307971016233_D1.wav\n",
      "fixing audio lenght : murmur_noisymurmur_171_1307971016233_F.wav\n",
      "fixing audio lenght : murmur__156_1306936373241_B.wav\n",
      "fixing audio lenght : murmur_noisymurmur_171_1307971016233_D.wav\n",
      "fixing audio lenght : murmur__164_1307106095995_C.wav\n",
      "fixing audio lenght : murmur__254_1309350589009_C.wav\n",
      "fixing audio lenght : murmur__254_1309350589009_A.wav\n",
      "fixing audio lenght : murmur_noisymurmur_231_1308748318393_A.wav\n",
      "fixing audio lenght : murmur__292_1311185449649_B.wav\n",
      "fixing audio lenght : murmur__211_1308163238707_C.wav\n",
      "fixing audio lenght : murmur__165_1307109069581_C.wav\n",
      "fixing audio lenght : murmur__203_1308162026258_C1.wav\n",
      "fixing audio lenght : murmur__162_1307101835989_B.wav\n",
      "fixing audio lenght : murmur__223_1308337062581_D.wav\n",
      "fixing audio lenght : murmur__195_1308140095331_C1.wav\n",
      "fixing audio lenght : murmur__244_1309198148498_B.wav\n",
      "fixing audio lenght : murmur__204_1308159229275_B.wav\n",
      "fixing audio lenght : murmur__195_1308140095331_C.wav\n",
      "fixing audio lenght : murmur__195_1308140095331_A.wav\n",
      "fixing audio lenght : murmur__193_1308078104592_C.wav\n",
      "fixing audio lenght : murmur__203_1308162026258_D.wav\n",
      "fixing audio lenght : murmur_noisymurmur_272_1309370164386_C.wav\n",
      "fixing audio lenght : murmur__245_1309200438094_B.wav\n",
      "fixing audio lenght : murmur_noisymurmur_164_1307106095995_C1.wav\n"
     ]
    }
   ],
   "source": [
    "normal_files = fnmatch.filter(os.listdir(path + \"set_b/\"), 'normal*.wav')\n",
    "normal_sounds = load_file_data(folder=path + \"set_b/\", file_names=normal_files, duration=dur)\n",
    "normal_labels = [0 for items in normal_sounds]\n",
    "\n",
    "extrastole_files = fnmatch.filter(os.listdir(path + \"set_b/\"), 'extrastole*.wav')\n",
    "extrastole_sounds = load_file_data(folder=path + \"set_b/\", file_names=extrastole_files, duration=dur)\n",
    "extrastole_labels = [1 for items in extrastole_sounds]\n",
    "\n",
    "murmur_files = fnmatch.filter(os.listdir(path + \"set_b/\"), 'murmur*.wav')\n",
    "murmur_sounds = load_file_data(folder=path + \"set_b/\", file_names=murmur_files, duration=dur)\n",
    "murmur_labels = [2 for items in murmur_sounds]"
   ]
  },
  {
   "cell_type": "code",
   "execution_count": 9,
   "id": "4f18bbcc",
   "metadata": {
    "scrolled": true
   },
   "outputs": [
    {
     "data": {
      "text/plain": [
       "(320, 52, 1)"
      ]
     },
     "execution_count": 9,
     "metadata": {},
     "output_type": "execute_result"
    }
   ],
   "source": [
    "np.array(normal_sounds).shape"
   ]
  },
  {
   "cell_type": "code",
   "execution_count": 10,
   "id": "0a74d562",
   "metadata": {},
   "outputs": [],
   "source": [
    "normal_sounds = reshape_tsai(normal_sounds)\n",
    "extrastole_sounds = reshape_tsai(extrastole_sounds)\n",
    "murmur_sounds = reshape_tsai(murmur_sounds)"
   ]
  },
  {
   "cell_type": "code",
   "execution_count": 11,
   "id": "0e8f2697",
   "metadata": {},
   "outputs": [],
   "source": [
    "X = np.concatenate((normal_sounds, extrastole_sounds, murmur_sounds), axis=0)\n",
    "y = normal_labels + extrastole_labels + murmur_labels"
   ]
  },
  {
   "cell_type": "code",
   "execution_count": 12,
   "id": "cf47c8d6",
   "metadata": {
    "scrolled": false
   },
   "outputs": [
    {
     "name": "stdout",
     "output_type": "stream",
     "text": [
      "(461, 1, 52)\n",
      "461\n"
     ]
    }
   ],
   "source": [
    "print(X.shape)\n",
    "print(len(y))"
   ]
  },
  {
   "cell_type": "code",
   "execution_count": 234,
   "id": "11ee1ad8",
   "metadata": {},
   "outputs": [
    {
     "name": "stdout",
     "output_type": "stream",
     "text": [
      "input shape: (2,)\n"
     ]
    },
    {
     "ename": "AttributeError",
     "evalue": "'NoneType' object has no attribute 'shape'",
     "output_type": "error",
     "traceback": [
      "\u001b[0;31m---------------------------------------------------------------------------\u001b[0m",
      "\u001b[0;31mAttributeError\u001b[0m                            Traceback (most recent call last)",
      "Input \u001b[0;32mIn [234]\u001b[0m, in \u001b[0;36m<cell line: 7>\u001b[0;34m()\u001b[0m\n\u001b[1;32m      4\u001b[0m \u001b[38;5;28mprint\u001b[39m(\u001b[38;5;124m'\u001b[39m\u001b[38;5;124minput shape:\u001b[39m\u001b[38;5;124m'\u001b[39m, X[\u001b[38;5;241m0\u001b[39m]\u001b[38;5;241m.\u001b[39mshape)\n\u001b[1;32m      6\u001b[0m X_sliced \u001b[38;5;241m=\u001b[39m SlidingWindow(window_length, stride\u001b[38;5;241m=\u001b[39mstride, horizon\u001b[38;5;241m=\u001b[39mhorizon)(X[\u001b[38;5;241m0\u001b[39m])[\u001b[38;5;241m0\u001b[39m]\n\u001b[0;32m----> 7\u001b[0m y_sliced \u001b[38;5;241m=\u001b[39m [y[\u001b[38;5;241m0\u001b[39m]] \u001b[38;5;241m*\u001b[39m \u001b[43mX_sliced\u001b[49m\u001b[38;5;241;43m.\u001b[39;49m\u001b[43mshape\u001b[49m[\u001b[38;5;241m0\u001b[39m]\n\u001b[1;32m      8\u001b[0m \u001b[38;5;28;01mfor\u001b[39;00m i \u001b[38;5;129;01min\u001b[39;00m \u001b[38;5;28mrange\u001b[39m(\u001b[38;5;241m1\u001b[39m, X\u001b[38;5;241m.\u001b[39mshape[\u001b[38;5;241m0\u001b[39m]):\n\u001b[1;32m      9\u001b[0m     temp \u001b[38;5;241m=\u001b[39m SlidingWindow(window_length, stride\u001b[38;5;241m=\u001b[39mstride, horizon\u001b[38;5;241m=\u001b[39mhorizon)(X[i])[\u001b[38;5;241m0\u001b[39m]\n",
      "\u001b[0;31mAttributeError\u001b[0m: 'NoneType' object has no attribute 'shape'"
     ]
    }
   ],
   "source": [
    "# window_length = 500\n",
    "# stride = None\n",
    "# horizon = 1\n",
    "# print('input shape:', X[0].shape)\n",
    "\n",
    "# X_sliced = SlidingWindow(window_length, stride=stride, horizon=horizon)(X[0])[0]\n",
    "# y_sliced = [y[0]] * X_sliced.shape[0]\n",
    "# for i in range(1, X.shape[0]):\n",
    "#     temp = SlidingWindow(window_length, stride=stride, horizon=horizon)(X[i])[0]\n",
    "#     X_sliced = np.concatenate((X_sliced, temp), axis=0)\n",
    "#     y_sliced = y_sliced + [y[i]] * temp.shape[0]"
   ]
  },
  {
   "cell_type": "code",
   "execution_count": 218,
   "id": "1ea9efec",
   "metadata": {},
   "outputs": [
    {
     "data": {
      "text/plain": [
       "(101420, 1, 500)"
      ]
     },
     "execution_count": 218,
     "metadata": {},
     "output_type": "execute_result"
    }
   ],
   "source": [
    "X_sliced.shape"
   ]
  },
  {
   "cell_type": "code",
   "execution_count": 217,
   "id": "e26cd55d",
   "metadata": {},
   "outputs": [
    {
     "data": {
      "text/plain": [
       "101420"
      ]
     },
     "execution_count": 217,
     "metadata": {},
     "output_type": "execute_result"
    }
   ],
   "source": [
    "len(y_sliced)"
   ]
  },
  {
   "cell_type": "code",
   "execution_count": 13,
   "id": "d4eec9ff",
   "metadata": {},
   "outputs": [],
   "source": [
    "X_train, X_test, y_train, y_test = train_test_split(X, y, test_size=0.2, random_state=42)\n",
    "X, y, splits = combine_split_data([X_train, X_test], [y_train, y_test])"
   ]
  },
  {
   "cell_type": "code",
   "execution_count": 21,
   "id": "52f6d4a5",
   "metadata": {},
   "outputs": [
    {
     "data": {
      "text/plain": [
       "(461, 1, 52)"
      ]
     },
     "execution_count": 21,
     "metadata": {},
     "output_type": "execute_result"
    }
   ],
   "source": [
    "X.shape"
   ]
  },
  {
   "cell_type": "code",
   "execution_count": 17,
   "id": "4bc0e0c9",
   "metadata": {
    "scrolled": true
   },
   "outputs": [
    {
     "data": {
      "text/html": [
       "\n",
       "<style>\n",
       "    /* Turns off some styling */\n",
       "    progress {\n",
       "        /* gets rid of default border in Firefox and Opera. */\n",
       "        border: none;\n",
       "        /* Needs to be in here for Safari polyfill so background images work as expected. */\n",
       "        background-size: auto;\n",
       "    }\n",
       "    progress:not([value]), progress:not([value])::-webkit-progress-bar {\n",
       "        background: repeating-linear-gradient(45deg, #7e7e7e, #7e7e7e 10px, #5c5c5c 10px, #5c5c5c 20px);\n",
       "    }\n",
       "    .progress-bar-interrupted, .progress-bar-interrupted::-webkit-progress-bar {\n",
       "        background: #F44336;\n",
       "    }\n",
       "</style>\n"
      ],
      "text/plain": [
       "<IPython.core.display.HTML object>"
      ]
     },
     "metadata": {},
     "output_type": "display_data"
    },
    {
     "data": {
      "text/html": [
       "<table border=\"1\" class=\"dataframe\">\n",
       "  <thead>\n",
       "    <tr style=\"text-align: left;\">\n",
       "      <th>epoch</th>\n",
       "      <th>train_loss</th>\n",
       "      <th>valid_loss</th>\n",
       "      <th>accuracy</th>\n",
       "      <th>time</th>\n",
       "    </tr>\n",
       "  </thead>\n",
       "  <tbody>\n",
       "    <tr>\n",
       "      <td>0</td>\n",
       "      <td>1.064793</td>\n",
       "      <td>1.119138</td>\n",
       "      <td>0.182796</td>\n",
       "      <td>00:00</td>\n",
       "    </tr>\n",
       "    <tr>\n",
       "      <td>1</td>\n",
       "      <td>0.984135</td>\n",
       "      <td>1.120405</td>\n",
       "      <td>0.096774</td>\n",
       "      <td>00:00</td>\n",
       "    </tr>\n",
       "    <tr>\n",
       "      <td>2</td>\n",
       "      <td>0.922157</td>\n",
       "      <td>1.106175</td>\n",
       "      <td>0.118280</td>\n",
       "      <td>00:00</td>\n",
       "    </tr>\n",
       "    <tr>\n",
       "      <td>3</td>\n",
       "      <td>0.884703</td>\n",
       "      <td>1.052644</td>\n",
       "      <td>0.666667</td>\n",
       "      <td>00:00</td>\n",
       "    </tr>\n",
       "    <tr>\n",
       "      <td>4</td>\n",
       "      <td>0.854317</td>\n",
       "      <td>0.998210</td>\n",
       "      <td>0.655914</td>\n",
       "      <td>00:00</td>\n",
       "    </tr>\n",
       "    <tr>\n",
       "      <td>5</td>\n",
       "      <td>0.835321</td>\n",
       "      <td>0.877705</td>\n",
       "      <td>0.677419</td>\n",
       "      <td>00:00</td>\n",
       "    </tr>\n",
       "    <tr>\n",
       "      <td>6</td>\n",
       "      <td>0.821384</td>\n",
       "      <td>0.833985</td>\n",
       "      <td>0.688172</td>\n",
       "      <td>00:00</td>\n",
       "    </tr>\n",
       "    <tr>\n",
       "      <td>7</td>\n",
       "      <td>0.808910</td>\n",
       "      <td>0.813901</td>\n",
       "      <td>0.688172</td>\n",
       "      <td>00:00</td>\n",
       "    </tr>\n",
       "    <tr>\n",
       "      <td>8</td>\n",
       "      <td>0.801864</td>\n",
       "      <td>3.514903</td>\n",
       "      <td>0.236559</td>\n",
       "      <td>00:00</td>\n",
       "    </tr>\n",
       "    <tr>\n",
       "      <td>9</td>\n",
       "      <td>0.795169</td>\n",
       "      <td>0.947683</td>\n",
       "      <td>0.655914</td>\n",
       "      <td>00:00</td>\n",
       "    </tr>\n",
       "    <tr>\n",
       "      <td>10</td>\n",
       "      <td>0.786320</td>\n",
       "      <td>0.894599</td>\n",
       "      <td>0.698925</td>\n",
       "      <td>00:00</td>\n",
       "    </tr>\n",
       "    <tr>\n",
       "      <td>11</td>\n",
       "      <td>0.779343</td>\n",
       "      <td>0.822984</td>\n",
       "      <td>0.698925</td>\n",
       "      <td>00:00</td>\n",
       "    </tr>\n",
       "    <tr>\n",
       "      <td>12</td>\n",
       "      <td>0.766600</td>\n",
       "      <td>0.886359</td>\n",
       "      <td>0.698925</td>\n",
       "      <td>00:00</td>\n",
       "    </tr>\n",
       "    <tr>\n",
       "      <td>13</td>\n",
       "      <td>0.762911</td>\n",
       "      <td>0.866841</td>\n",
       "      <td>0.709677</td>\n",
       "      <td>00:00</td>\n",
       "    </tr>\n",
       "    <tr>\n",
       "      <td>14</td>\n",
       "      <td>0.753494</td>\n",
       "      <td>0.859241</td>\n",
       "      <td>0.698925</td>\n",
       "      <td>00:00</td>\n",
       "    </tr>\n",
       "    <tr>\n",
       "      <td>15</td>\n",
       "      <td>0.748390</td>\n",
       "      <td>0.920367</td>\n",
       "      <td>0.645161</td>\n",
       "      <td>00:00</td>\n",
       "    </tr>\n",
       "    <tr>\n",
       "      <td>16</td>\n",
       "      <td>0.741107</td>\n",
       "      <td>0.867509</td>\n",
       "      <td>0.698925</td>\n",
       "      <td>00:00</td>\n",
       "    </tr>\n",
       "    <tr>\n",
       "      <td>17</td>\n",
       "      <td>0.736073</td>\n",
       "      <td>0.855602</td>\n",
       "      <td>0.655914</td>\n",
       "      <td>00:00</td>\n",
       "    </tr>\n",
       "    <tr>\n",
       "      <td>18</td>\n",
       "      <td>0.730278</td>\n",
       "      <td>0.953370</td>\n",
       "      <td>0.634409</td>\n",
       "      <td>00:00</td>\n",
       "    </tr>\n",
       "    <tr>\n",
       "      <td>19</td>\n",
       "      <td>0.725008</td>\n",
       "      <td>0.798323</td>\n",
       "      <td>0.720430</td>\n",
       "      <td>00:00</td>\n",
       "    </tr>\n",
       "    <tr>\n",
       "      <td>20</td>\n",
       "      <td>0.721039</td>\n",
       "      <td>0.816016</td>\n",
       "      <td>0.709677</td>\n",
       "      <td>00:00</td>\n",
       "    </tr>\n",
       "    <tr>\n",
       "      <td>21</td>\n",
       "      <td>0.715246</td>\n",
       "      <td>0.848349</td>\n",
       "      <td>0.698925</td>\n",
       "      <td>00:00</td>\n",
       "    </tr>\n",
       "    <tr>\n",
       "      <td>22</td>\n",
       "      <td>0.710581</td>\n",
       "      <td>0.779362</td>\n",
       "      <td>0.698925</td>\n",
       "      <td>00:00</td>\n",
       "    </tr>\n",
       "    <tr>\n",
       "      <td>23</td>\n",
       "      <td>0.705429</td>\n",
       "      <td>0.784197</td>\n",
       "      <td>0.688172</td>\n",
       "      <td>00:00</td>\n",
       "    </tr>\n",
       "    <tr>\n",
       "      <td>24</td>\n",
       "      <td>0.699064</td>\n",
       "      <td>0.782244</td>\n",
       "      <td>0.731183</td>\n",
       "      <td>00:00</td>\n",
       "    </tr>\n",
       "    <tr>\n",
       "      <td>25</td>\n",
       "      <td>0.691161</td>\n",
       "      <td>0.777726</td>\n",
       "      <td>0.741935</td>\n",
       "      <td>00:00</td>\n",
       "    </tr>\n",
       "    <tr>\n",
       "      <td>26</td>\n",
       "      <td>0.685593</td>\n",
       "      <td>0.774673</td>\n",
       "      <td>0.720430</td>\n",
       "      <td>00:00</td>\n",
       "    </tr>\n",
       "    <tr>\n",
       "      <td>27</td>\n",
       "      <td>0.679953</td>\n",
       "      <td>0.775225</td>\n",
       "      <td>0.720430</td>\n",
       "      <td>00:00</td>\n",
       "    </tr>\n",
       "    <tr>\n",
       "      <td>28</td>\n",
       "      <td>0.675238</td>\n",
       "      <td>0.776570</td>\n",
       "      <td>0.720430</td>\n",
       "      <td>00:00</td>\n",
       "    </tr>\n",
       "    <tr>\n",
       "      <td>29</td>\n",
       "      <td>0.668815</td>\n",
       "      <td>0.777643</td>\n",
       "      <td>0.731183</td>\n",
       "      <td>00:00</td>\n",
       "    </tr>\n",
       "  </tbody>\n",
       "</table>"
      ],
      "text/plain": [
       "<IPython.core.display.HTML object>"
      ]
     },
     "metadata": {},
     "output_type": "display_data"
    },
    {
     "data": {
      "image/png": "[encoded data removed]",
      "text/plain": [
       "<Figure size 432x288 with 1 Axes>"
      ]
     },
     "metadata": {},
     "output_type": "display_data"
    },
    {
     "data": {
      "image/png": "[encoded data removed]",
      "text/plain": [
       "<Figure size 1440x288 with 3 Axes>"
      ]
     },
     "metadata": {
      "needs_background": "light"
     },
     "output_type": "display_data"
    }
   ],
   "source": [
    "tfms = [None, TSClassification()]\n",
    "batch_tfms = TSStandardize()\n",
    "clf = TSClassifier(X, y, splits=splits, bs=[64, 128], path='models', arch=\"InceptionTimePlus\", tfms=tfms, batch_tfms=batch_tfms, metrics=accuracy, cbs=ShowGraph())\n",
    "clf.fit_one_cycle(30, 1e-3)\n",
    "clf.export(\"clf.pkl\") "
   ]
  },
  {
   "cell_type": "code",
   "execution_count": 18,
   "id": "8a17b48c",
   "metadata": {},
   "outputs": [],
   "source": [
    "tfms  = [None, TSClassification()] # TSClassification == Categorize\n",
    "batch_tfms = TSStandardize()\n",
    "dls = get_ts_dls(X, y, splits=splits, tfms=tfms, batch_tfms=batch_tfms, bs=[64, 128])"
   ]
  },
  {
   "cell_type": "code",
   "execution_count": 19,
   "id": "6c1e2aca",
   "metadata": {},
   "outputs": [],
   "source": [
    "model = build_ts_model(LSTM, dls=dls)\n",
    "learn = Learner(dls, model, metrics=accuracy)"
   ]
  },
  {
   "cell_type": "code",
   "execution_count": 20,
   "id": "06e473e2",
   "metadata": {},
   "outputs": [
    {
     "data": {
      "text/html": [
       "\n",
       "<style>\n",
       "    /* Turns off some styling */\n",
       "    progress {\n",
       "        /* gets rid of default border in Firefox and Opera. */\n",
       "        border: none;\n",
       "        /* Needs to be in here for Safari polyfill so background images work as expected. */\n",
       "        background-size: auto;\n",
       "    }\n",
       "    progress:not([value]), progress:not([value])::-webkit-progress-bar {\n",
       "        background: repeating-linear-gradient(45deg, #7e7e7e, #7e7e7e 10px, #5c5c5c 10px, #5c5c5c 20px);\n",
       "    }\n",
       "    .progress-bar-interrupted, .progress-bar-interrupted::-webkit-progress-bar {\n",
       "        background: #F44336;\n",
       "    }\n",
       "</style>\n"
      ],
      "text/plain": [
       "<IPython.core.display.HTML object>"
      ]
     },
     "metadata": {},
     "output_type": "display_data"
    },
    {
     "data": {
      "text/html": [],
      "text/plain": [
       "<IPython.core.display.HTML object>"
      ]
     },
     "metadata": {},
     "output_type": "display_data"
    },
    {
     "data": {
      "text/plain": [
       "SuggestedLRs(valley=0.0063095735386013985)"
      ]
     },
     "execution_count": 20,
     "metadata": {},
     "output_type": "execute_result"
    },
    {
     "data": {
      "image/png": "[encoded data removed]",
      "text/plain": [
       "<Figure size 432x288 with 1 Axes>"
      ]
     },
     "metadata": {
      "needs_background": "light"
     },
     "output_type": "display_data"
    }
   ],
   "source": [
    "learn.lr_find()"
   ]
  },
  {
   "cell_type": "code",
   "execution_count": 15,
   "id": "05ca9325",
   "metadata": {},
   "outputs": [
    {
     "data": {
      "text/html": [
       "<div>\n",
       "<style scoped>\n",
       "    .dataframe tbody tr th:only-of-type {\n",
       "        vertical-align: middle;\n",
       "    }\n",
       "\n",
       "    .dataframe tbody tr th {\n",
       "        vertical-align: top;\n",
       "    }\n",
       "\n",
       "    .dataframe thead th {\n",
       "        text-align: right;\n",
       "    }\n",
       "</style>\n",
       "<table border=\"1\" class=\"dataframe\">\n",
       "  <thead>\n",
       "    <tr style=\"text-align: right;\">\n",
       "      <th></th>\n",
       "      <th>arch</th>\n",
       "      <th>hyperparams</th>\n",
       "      <th>total params</th>\n",
       "      <th>train loss</th>\n",
       "      <th>valid loss</th>\n",
       "      <th>accuracy</th>\n",
       "      <th>time</th>\n",
       "    </tr>\n",
       "  </thead>\n",
       "  <tbody>\n",
       "    <tr>\n",
       "      <th>0</th>\n",
       "      <td>ResNet</td>\n",
       "      <td>{}</td>\n",
       "      <td>478595</td>\n",
       "      <td>0.645211</td>\n",
       "      <td>0.780815</td>\n",
       "      <td>0.720430</td>\n",
       "      <td>3</td>\n",
       "    </tr>\n",
       "    <tr>\n",
       "      <th>1</th>\n",
       "      <td>InceptionTime</td>\n",
       "      <td>{}</td>\n",
       "      <td>388739</td>\n",
       "      <td>0.684761</td>\n",
       "      <td>0.788105</td>\n",
       "      <td>0.720430</td>\n",
       "      <td>4</td>\n",
       "    </tr>\n",
       "    <tr>\n",
       "      <th>2</th>\n",
       "      <td>mWDN</td>\n",
       "      <td>{'levels': 4}</td>\n",
       "      <td>462599</td>\n",
       "      <td>0.401860</td>\n",
       "      <td>0.866607</td>\n",
       "      <td>0.720430</td>\n",
       "      <td>4</td>\n",
       "    </tr>\n",
       "    <tr>\n",
       "      <th>3</th>\n",
       "      <td>FCN</td>\n",
       "      <td>{}</td>\n",
       "      <td>264451</td>\n",
       "      <td>0.768776</td>\n",
       "      <td>0.799429</td>\n",
       "      <td>0.709677</td>\n",
       "      <td>2</td>\n",
       "    </tr>\n",
       "    <tr>\n",
       "      <th>4</th>\n",
       "      <td>ResCNN</td>\n",
       "      <td>{}</td>\n",
       "      <td>256388</td>\n",
       "      <td>0.712195</td>\n",
       "      <td>0.801173</td>\n",
       "      <td>0.709677</td>\n",
       "      <td>2</td>\n",
       "    </tr>\n",
       "    <tr>\n",
       "      <th>5</th>\n",
       "      <td>LSTM_FCN</td>\n",
       "      <td>{}</td>\n",
       "      <td>326351</td>\n",
       "      <td>0.768865</td>\n",
       "      <td>0.786137</td>\n",
       "      <td>0.709677</td>\n",
       "      <td>2</td>\n",
       "    </tr>\n",
       "    <tr>\n",
       "      <th>6</th>\n",
       "      <td>LSTM_FCN</td>\n",
       "      <td>{'shuffle': False}</td>\n",
       "      <td>305951</td>\n",
       "      <td>0.785499</td>\n",
       "      <td>0.782448</td>\n",
       "      <td>0.709677</td>\n",
       "      <td>2</td>\n",
       "    </tr>\n",
       "    <tr>\n",
       "      <th>7</th>\n",
       "      <td>OmniScaleCNN</td>\n",
       "      <td>{}</td>\n",
       "      <td>342891</td>\n",
       "      <td>0.723676</td>\n",
       "      <td>0.838709</td>\n",
       "      <td>0.709677</td>\n",
       "      <td>4</td>\n",
       "    </tr>\n",
       "    <tr>\n",
       "      <th>8</th>\n",
       "      <td>LSTM</td>\n",
       "      <td>{'n_layers': 2, 'bidirectional': False}</td>\n",
       "      <td>122303</td>\n",
       "      <td>0.813711</td>\n",
       "      <td>0.794016</td>\n",
       "      <td>0.698925</td>\n",
       "      <td>2</td>\n",
       "    </tr>\n",
       "    <tr>\n",
       "      <th>9</th>\n",
       "      <td>LSTM</td>\n",
       "      <td>{'n_layers': 1, 'bidirectional': False}</td>\n",
       "      <td>41503</td>\n",
       "      <td>0.832573</td>\n",
       "      <td>0.801160</td>\n",
       "      <td>0.688172</td>\n",
       "      <td>1</td>\n",
       "    </tr>\n",
       "    <tr>\n",
       "      <th>10</th>\n",
       "      <td>LSTM</td>\n",
       "      <td>{'n_layers': 3, 'bidirectional': False}</td>\n",
       "      <td>203103</td>\n",
       "      <td>0.811827</td>\n",
       "      <td>0.797265</td>\n",
       "      <td>0.688172</td>\n",
       "      <td>2</td>\n",
       "    </tr>\n",
       "  </tbody>\n",
       "</table>\n",
       "</div>"
      ],
      "text/plain": [
       "             arch                              hyperparams  total params   \n",
       "0          ResNet                                       {}        478595  \\\n",
       "1   InceptionTime                                       {}        388739   \n",
       "2            mWDN                            {'levels': 4}        462599   \n",
       "3             FCN                                       {}        264451   \n",
       "4          ResCNN                                       {}        256388   \n",
       "5        LSTM_FCN                                       {}        326351   \n",
       "6        LSTM_FCN                       {'shuffle': False}        305951   \n",
       "7    OmniScaleCNN                                       {}        342891   \n",
       "8            LSTM  {'n_layers': 2, 'bidirectional': False}        122303   \n",
       "9            LSTM  {'n_layers': 1, 'bidirectional': False}         41503   \n",
       "10           LSTM  {'n_layers': 3, 'bidirectional': False}        203103   \n",
       "\n",
       "    train loss  valid loss  accuracy  time  \n",
       "0     0.645211    0.780815  0.720430     3  \n",
       "1     0.684761    0.788105  0.720430     4  \n",
       "2     0.401860    0.866607  0.720430     4  \n",
       "3     0.768776    0.799429  0.709677     2  \n",
       "4     0.712195    0.801173  0.709677     2  \n",
       "5     0.768865    0.786137  0.709677     2  \n",
       "6     0.785499    0.782448  0.709677     2  \n",
       "7     0.723676    0.838709  0.709677     4  \n",
       "8     0.813711    0.794016  0.698925     2  \n",
       "9     0.832573    0.801160  0.688172     1  \n",
       "10    0.811827    0.797265  0.688172     2  "
      ]
     },
     "metadata": {},
     "output_type": "display_data"
    }
   ],
   "source": [
    "bs = 128\n",
    "print(X.shape)\n",
    "tfms  = [None, [Categorize()]]\n",
    "dsets = TSDatasets(X, y, tfms=tfms, splits=splits)\n",
    "dls   = TSDataLoaders.from_dsets(dsets.train, dsets.valid, bs=[bs, bs*2])\n",
    "\n",
    "archs = [(FCN, {}), (ResNet, {}), (ResCNN, {}), \n",
    "         (LSTM, {'n_layers':1, 'bidirectional': False}), (LSTM, {'n_layers':2, 'bidirectional': False}), (LSTM, {'n_layers':3, 'bidirectional': False}),\n",
    "         (LSTM_FCN, {}), (LSTM_FCN, {'shuffle': False}), (InceptionTime, {}), (OmniScaleCNN, {}), (mWDN, {'levels': 4})]\n",
    "\n",
    "results = pd.DataFrame(columns=['arch', 'hyperparams', 'total params', 'train loss', 'valid loss', 'accuracy', 'time'])\n",
    "for i, (arch, k) in enumerate(archs):\n",
    "    model = create_model(arch, dls=dls, **k)\n",
    "    print(model.__class__.__name__)\n",
    "    learn = Learner(dls, model,  metrics=accuracy)\n",
    "    start = time.time()\n",
    "    learn.fit_one_cycle(50, 1e-3)\n",
    "    elapsed = time.time() - start\n",
    "    vals = learn.recorder.values[-1]\n",
    "    results.loc[i] = [arch.__name__, k, count_parameters(model), vals[0], vals[1], vals[2], int(elapsed)]\n",
    "    results.sort_values(by='accuracy', ascending=False, kind='stable', ignore_index=True, inplace=True)\n",
    "    clear_output()\n",
    "    display(results)"
   ]
  },
  {
   "cell_type": "code",
   "execution_count": null,
   "id": "b865c71c",
   "metadata": {},
   "outputs": [],
   "source": []
  }
 ],
 "metadata": {
  "kernelspec": {
   "display_name": "Python 3 (ipykernel)",
   "language": "python",
   "name": "python3"
  },
  "language_info": {
   "codemirror_mode": {
    "name": "ipython",
    "version": 3
   },
   "file_extension": ".py",
   "mimetype": "text/x-python",
   "name": "python",
   "nbconvert_exporter": "python",
   "pygments_lexer": "ipython3",
   "version": "3.8.16"
  }
 },
 "nbformat": 4,
 "nbformat_minor": 5
}
