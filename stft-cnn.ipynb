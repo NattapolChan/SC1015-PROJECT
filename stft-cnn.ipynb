{
 "cells": [
  {
   "cell_type": "code",
   "execution_count": null,
   "metadata": {},
   "outputs": [],
   "source": [
    "import torch\n",
    "import torch.nn as nn\n",
    "import torch.nn.functional as F\n",
    "import torchvision.models as models\n",
    "from utils.train_stft import train_cnn_stft\n",
    "import matplotlib.pyplot as plt\n",
    "import numpy as np\n",
    "from ray import tune\n",
    "from ray.tune import CLIReporter\n",
    "from ray.tune.schedulers import ASHAScheduler\n",
    "from ray.tune.search.optuna import OptunaSearch\n",
    "\n",
    "CONFIG = {\n",
    "    \"dropout\": tune.choice([0.1,0.2,0.3,0.4]),\n",
    "    \"f_start\": tune.uniform(0, 1000),\n",
    "    \"batch_size\": tune.choice([4,8,16,32,64]),\n",
    "    \"learning_rate\": tune.loguniform(1e-5, 1e-2),\n",
    "    \"input_channels\": tune.choice([32,64,128]),\n",
    "}\n",
    "reporter = CLIReporter(\n",
    "        parameter_columns=[\"input_channels\", \"dropout\", \"learning_rate\", \"batch_size\", \"f_start\"],\n",
    "        metric_columns=[\"loss\", \"accuracy\", \"training_iteration\"])\n",
    "\n",
    "tuner = tune.Tuner(\n",
    "        tune.with_resources(\n",
    "                tune.with_parameters(train_cnn_stft),\n",
    "                resources={\"cpu\": 16, \"gpu\": 2}\n",
    "        ),\n",
    "        tune_config=tune.TuneConfig(\n",
    "                metric='accuracy',\n",
    "                mode=\"max\",\n",
    "                search_alg=OptunaSearch(),\n",
    "        ),\n",
    "        param_space=CONFIG,\n",
    ")\n",
    "results = tuner.fit()\n",
    "\n",
    "# model = torchvision.models.resnet18(False)\n",
    "# model.conv1 = torch.nn.Conv2d(1, 64, kernel_size=7, stride=2, padding=3, bias=False)\n",
    "# model.fc = torch.nn.Linear(512, 3)\n",
    "\n",
    "best_result = results.get_best_result(\"accuracy\", \"max\")"
   ]
  }
 ],
 "metadata": {
  "language_info": {
   "name": "python"
  },
  "orig_nbformat": 4
 },
 "nbformat": 4,
 "nbformat_minor": 2
}
