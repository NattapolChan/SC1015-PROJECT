{
 "cells": [
  {
   "cell_type": "code",
   "execution_count": 54,
   "metadata": {},
   "outputs": [
    {
     "name": "stderr",
     "output_type": "stream",
     "text": [
      "/Users/nattapolchanpaisit/miniforge3/lib/python3.10/site-packages/torchvision/models/_utils.py:135: UserWarning: Using 'weights' as positional parameter(s) is deprecated since 0.13 and may be removed in the future. Please use keyword parameter(s) instead.\n",
      "  warnings.warn(\n",
      "/Users/nattapolchanpaisit/miniforge3/lib/python3.10/site-packages/torchvision/models/_utils.py:223: UserWarning: Arguments other than a weight enum or `None` for 'weights' are deprecated since 0.13 and may be removed in the future. The current behavior is equivalent to passing `weights=None`.\n",
      "  warnings.warn(msg)\n"
     ]
    }
   ],
   "source": [
    "from utils.dataset import set_b_dataset, set_b_dataclass\n",
    "import torch\n",
    "import torch.nn as nn\n",
    "import torch.nn.functional as F\n",
    "from torch.utils.tensorboard import SummaryWriter\n",
    "import torchvision\n",
    "import torchvision.models as models\n",
    "from random import sample\n",
    "import matplotlib.pyplot as plt\n",
    "import numpy as np\n",
    "from torch.utils.data import DataLoader\n",
    "\n",
    "\n",
    "PROJECT_DIR = '/Users/nattapolchanpaisit/Documents/GitHub/Algorithm/SC1015-PROJECT/'\n",
    "N_TRAIN = 300\n",
    "DEVICE = torch.device('cuda') if torch.cuda.is_available() else torch.device('cpu')\n",
    "BATCH_SIZE = 32\n",
    "EPOCH = 10\n",
    "F_LOW = 200\n",
    "F_HIGH = 400\n",
    "\n",
    "train_id = tuple(sample([i for i in range(461)], N_TRAIN))\n",
    "test_id = tuple(set([i for i in range(461)])-set(train_id))\n",
    "writer = SummaryWriter(f'runs/{F_LOW}_{F_HIGH}_Hz')\n",
    "trainset = set_b_dataclass(PROJECT_DIR, output_width=200, list_id=train_id)\n",
    "trainloader = DataLoader(trainset, batch_size=BATCH_SIZE, shuffle=True)\n",
    "testset = set_b_dataclass(PROJECT_DIR, output_width=200, list_id=test_id)\n",
    "testloader = DataLoader(testset, batch_size=BATCH_SIZE, shuffle=True)\n",
    "\n",
    "model = torchvision.models.resnet18(False)\n",
    "model.conv1 = torch.nn.Conv2d(1, 64, kernel_size=7, stride=2, padding=3, bias=False)\n",
    "model.fc = torch.nn.Linear(512, 3)\n",
    "\n",
    "optimizer = torch.optim.Adam(model.parameters(), lr=0.0001)"
   ]
  },
  {
   "cell_type": "code",
   "execution_count": 62,
   "metadata": {},
   "outputs": [],
   "source": [
    "def images_to_probs(model, image, idx):\n",
    "    '''\n",
    "    Generates predictions and corresponding probabilities from a trained\n",
    "    network and a list of images\n",
    "    '''\n",
    "    image = image[idx][0].view(1,1,output.size(1), output.size(2))\n",
    "    output = model(image)\n",
    "    # convert output probabilities to predicted class\n",
    "    _, preds_tensor = torch.max(output, 1)\n",
    "    preds = np.squeeze(preds_tensor.numpy())\n",
    "    return preds, [F.softmax(el, dim=0)[i].item() for i, el in zip(preds, output)]\n",
    "\n",
    "\n",
    "def plot_classes_preds(net, images, labels):\n",
    "    '''\n",
    "    Generates matplotlib Figure using a trained network, along with images\n",
    "    and labels from a batch, that shows the network's top prediction along\n",
    "    with its probability, alongside the actual label, coloring this\n",
    "    information based on whether the prediction was correct or not.\n",
    "    Uses the \"images_to_probs\" function.\n",
    "    '''\n",
    "    classes = ['normal', 'murmur', 'extrastole']\n",
    "    # plot the images in the batch, along with predicted and true labels\n",
    "    fig = plt.figure(figsize=(12, 48))\n",
    "    for idx in np.arange(4):\n",
    "        pred, prob = images_to_probs(net, images, idx)\n",
    "        ax = fig.add_subplot(1, 4, idx+1, xticks=[], yticks=[])\n",
    "        ax.imshow(images[idx], one_channel=True)\n",
    "        ax.set_title(\"{0}, {1:.1f}%\\n(label: {2})\".format(\n",
    "            classes[pred],\n",
    "            prob * 100.0,\n",
    "            classes[labels[idx]]),\n",
    "                    color=(\"green\" if pred==labels[idx].item() else \"red\"))\n",
    "    return fig"
   ]
  },
  {
   "cell_type": "code",
   "execution_count": 73,
   "metadata": {},
   "outputs": [],
   "source": [
    "def train_cnn_stft():\n",
    "    for epoch in range(EPOCH):\n",
    "        running_loss = 0\n",
    "        running_val_loss = 0\n",
    "        running_val_acc = 0\n",
    "        running_acc = 0\n",
    "        total_murmur_acc = 0\n",
    "        running_murmur_acc = 0\n",
    "        for i, data in enumerate(trainloader):\n",
    "            stft, labels = data\n",
    "            stft = stft.to(torch.float32).to(DEVICE)\n",
    "            stft = stft.view(-1, 1, stft.size(1), stft.size(2))\n",
    "            label_one_hot = F.one_hot(labels, num_classes=3).to(torch.float32).to(DEVICE)\n",
    "            model.train(True)\n",
    "            grid = torchvision.utils.make_grid(stft)\n",
    "            optimizer.zero_grad()\n",
    "            outputs_one_hot = model(stft)\n",
    "            outputs_one_hot = nn.Softmax()(outputs_one_hot)\n",
    "            loss = torch.nn.CrossEntropyLoss()(label_one_hot, outputs_one_hot)\n",
    "            loss.backward()\n",
    "            optimizer.step()\n",
    "            running_loss += loss.item()\n",
    "            model.train(False)\n",
    "            output_labels = torch.argmax(outputs_one_hot, 1)\n",
    "            running_acc += torch.sum(output_labels==labels)\n",
    "            \n",
    "        for i, data in enumerate(testloader):\n",
    "            writer.add_image('image', grid, 0)\n",
    "            writer.add_graph(model, stft)\n",
    "            writer.close()\n",
    "            stft, labels = data\n",
    "            stft = stft.to(torch.float32).to(DEVICE)\n",
    "            stft = stft.view(-1, 1, stft.size(1), stft.size(2))\n",
    "            label_one_hot = F.one_hot(labels, num_classes=3).to(torch.float32).to(DEVICE)\n",
    "            outputs_one_hot = model(stft)\n",
    "            outputs_one_hot = nn.Softmax()(outputs_one_hot)\n",
    "            loss = torch.nn.CrossEntropyLoss()(label_one_hot, outputs_one_hot)\n",
    "            running_val_loss += loss.item()\n",
    "            output_labels = torch.argmax(outputs_one_hot, 1)\n",
    "            running_val_acc += torch.sum(output_labels==labels)\n",
    "            filtered_murmur = labels[labels == 1]\n",
    "            running_murmur_acc += torch.sum(output_labels*filtered_murmur==labels)\n",
    "            total_murmur_acc += torch.sum(labels==torch.ones(size=(labels.size())) * 1)\n",
    "            \n",
    "        print(f'{epoch} : Train Loss', running_loss/trainset.__len__())\n",
    "        print(f' : Train Accuracy', running_acc/trainset.__len__())\n",
    "        print(f' : Validation Loss', running_val_loss/testset.__len__())\n",
    "        print(f' : Validation Accuracy', running_val_acc/testset.__len__())\n",
    "        print(f' : Validation Accuracy (Murmur)', running_murmur_acc/total_murmur_acc)\n",
    "        writer.add_scalar('Loss/train',\n",
    "                            running_loss / trainset.__len__(),\n",
    "                            epoch * len(trainloader))\n",
    "        writer.add_scalar('Loss/val',\n",
    "                            running_val_loss / testset.__len__(),\n",
    "                            epoch * len(trainloader))\n",
    "        writer.add_scalar('Accuracy/train',\n",
    "                            running_loss / trainset.__len__(),\n",
    "                            epoch * len(trainloader))\n",
    "        writer.add_scalar('Accuracy/val',\n",
    "                            running_val_loss / testset.__len__(),\n",
    "                            epoch * len(trainloader))\n",
    "        \n",
    "        # writer.add_figure('predictions vs. actuals',\n",
    "        #                     plot_classes_preds(model, testset, labels),\n",
    "        #                     global_step=epoch * len(trainloader) + i)"
   ]
  },
  {
   "cell_type": "code",
   "execution_count": 74,
   "metadata": {},
   "outputs": [
    {
     "name": "stderr",
     "output_type": "stream",
     "text": [
      "/var/folders/mk/w2mwvrjn5sn9g2fty5rrgzd40000gn/T/ipykernel_66434/3278987254.py:18: UserWarning: Implicit dimension choice for softmax has been deprecated. Change the call to include dim=X as an argument.\n",
      "  outputs_one_hot = nn.Softmax()(outputs_one_hot)\n",
      "/var/folders/mk/w2mwvrjn5sn9g2fty5rrgzd40000gn/T/ipykernel_66434/3278987254.py:36: UserWarning: Implicit dimension choice for softmax has been deprecated. Change the call to include dim=X as an argument.\n",
      "  outputs_one_hot = nn.Softmax()(outputs_one_hot)\n"
     ]
    },
    {
     "ename": "RuntimeError",
     "evalue": "The size of tensor a (32) must match the size of tensor b (7) at non-singleton dimension 0",
     "output_type": "error",
     "traceback": [
      "\u001b[0;31m---------------------------------------------------------------------------\u001b[0m",
      "\u001b[0;31mRuntimeError\u001b[0m                              Traceback (most recent call last)",
      "Cell \u001b[0;32mIn[74], line 1\u001b[0m\n\u001b[0;32m----> 1\u001b[0m train_cnn_stft()\n",
      "Cell \u001b[0;32mIn[73], line 42\u001b[0m, in \u001b[0;36mtrain_cnn_stft\u001b[0;34m()\u001b[0m\n\u001b[1;32m     40\u001b[0m     running_val_acc \u001b[39m+\u001b[39m\u001b[39m=\u001b[39m torch\u001b[39m.\u001b[39msum(output_labels\u001b[39m==\u001b[39mlabels)\n\u001b[1;32m     41\u001b[0m     filtered_murmur \u001b[39m=\u001b[39m labels[labels \u001b[39m==\u001b[39m \u001b[39m1\u001b[39m]\n\u001b[0;32m---> 42\u001b[0m     running_murmur_acc \u001b[39m+\u001b[39m\u001b[39m=\u001b[39m torch\u001b[39m.\u001b[39msum(output_labels\u001b[39m*\u001b[39;49mfiltered_murmur\u001b[39m==\u001b[39mlabels)\n\u001b[1;32m     43\u001b[0m     total_murmur_acc \u001b[39m+\u001b[39m\u001b[39m=\u001b[39m torch\u001b[39m.\u001b[39msum(labels\u001b[39m==\u001b[39mtorch\u001b[39m.\u001b[39mones(size\u001b[39m=\u001b[39m(labels\u001b[39m.\u001b[39msize())) \u001b[39m*\u001b[39m \u001b[39m1\u001b[39m)\n\u001b[1;32m     45\u001b[0m \u001b[39mprint\u001b[39m(\u001b[39mf\u001b[39m\u001b[39m'\u001b[39m\u001b[39m{\u001b[39;00mepoch\u001b[39m}\u001b[39;00m\u001b[39m : Train Loss\u001b[39m\u001b[39m'\u001b[39m, running_loss\u001b[39m/\u001b[39mtrainset\u001b[39m.\u001b[39m\u001b[39m__len__\u001b[39m())\n",
      "\u001b[0;31mRuntimeError\u001b[0m: The size of tensor a (32) must match the size of tensor b (7) at non-singleton dimension 0"
     ]
    }
   ],
   "source": [
    "train_cnn_stft()"
   ]
  }
 ],
 "metadata": {
  "kernelspec": {
   "display_name": "base",
   "language": "python",
   "name": "python3"
  },
  "language_info": {
   "codemirror_mode": {
    "name": "ipython",
    "version": 3
   },
   "file_extension": ".py",
   "mimetype": "text/x-python",
   "name": "python",
   "nbconvert_exporter": "python",
   "pygments_lexer": "ipython3",
   "version": "3.10.8"
  },
  "orig_nbformat": 4
 },
 "nbformat": 4,
 "nbformat_minor": 2
}
